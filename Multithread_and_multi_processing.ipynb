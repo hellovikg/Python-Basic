{
  "cells": [
    {
      "cell_type": "code",
      "execution_count": null,
      "metadata": {
        "id": "svxkO984dM6Y"
      },
      "outputs": [],
      "source": []
    },
    {
      "cell_type": "markdown",
      "metadata": {
        "id": "e7fd235f"
      },
      "source": [
        "Here are the answers to your questions about Python concepts:\n",
        "\n",
        "1.  **What is the difference between interpreted and compiled languages?**\n",
        "    *   **Interpreted languages** are executed line by line by an interpreter. The code is translated and run at the same time. Examples: Python, JavaScript, Ruby.\n",
        "    *   **Compiled languages** are translated into machine code before execution by a compiler. The compiled code is then run independently. Examples: C, C++, Java.\n",
        "\n",
        "2.  **What is exception handling in Python?**\n",
        "    *   Exception handling is a mechanism to gracefully handle errors or exceptional events that occur during program execution, preventing the program from crashing.\n",
        "\n",
        "3.  **What is the purpose of the `finally` block in exception handling?**\n",
        "    *   The `finally` block in exception handling is always executed, regardless of whether an exception occurred or not. It's typically used for cleanup operations, such as closing files or releasing resources.\n",
        "\n",
        "4.  **What is logging in Python?**\n",
        "    *   Logging is the process of recording events that occur while a software is running. It's useful for debugging, monitoring, and understanding the program's behavior.\n",
        "\n",
        "5.  **What is the significance of the `__del__` method in Python?**\n",
        "    *   The `__del__` method (also known as the destructor) is called when an object is about to be destroyed (garbage collected). It can be used for cleanup tasks related to the object's resources. However, its execution is not guaranteed, and relying on it for critical cleanup is generally discouraged.\n",
        "\n",
        "6.  **What is the difference between `import` and `from ... import` in Python?**\n",
        "    *   `import module_name`: Imports the entire module. You access its members using `module_name.member_name`.\n",
        "    *   `from module_name import member_name`: Imports specific members (functions, classes, variables) from a module directly into the current namespace. You can then use the member directly by its name (`member_name`).\n",
        "\n",
        "7.  **How can you handle multiple exceptions in Python?**\n",
        "    *   You can handle multiple exceptions using multiple `except` blocks or by providing a tuple of exception types to a single `except` block.\n",
        "\n",
        "8.  **What is the purpose of the `with` statement when handling files in Python?**\n",
        "    *   The `with` statement is used for resource management, ensuring that resources (like files) are properly closed or released, even if exceptions occur. When used with file handling, it automatically closes the file when the block is exited.\n",
        "\n",
        "9.  **What is the difference between multithreading and multiprocessing?**\n",
        "    *   **Multithreading:** Allows multiple threads within a single process to execute concurrently. Threads share the same memory space. Suitable for I/O-bound tasks.\n",
        "    *   **Multiprocessing:** Creates multiple processes, each with its own memory space. Suitable for CPU-bound tasks, as it can utilize multiple CPU cores.\n",
        "\n",
        "10. **What are the advantages of using logging in a program?**\n",
        "    *   **Debugging:** Helps identify and diagnose issues in the code.\n",
        "    *   **Monitoring:** Provides insights into the program's behavior and performance.\n",
        "    *   **Auditing:** Records events for security or compliance purposes.\n",
        "    *   **Separation of Concerns:** Separates logging logic from the main program logic.\n",
        "\n",
        "11. **What is memory management in Python?**\n",
        "    *   Memory management in Python involves allocating and deallocating memory for objects. Python uses a private heap to manage memory, and a garbage collector to reclaim memory that is no longer in use.\n",
        "\n",
        "12. **What are the basic steps involved in exception handling in Python?**\n",
        "    *   **`try`:** Code that might raise an exception is placed in the `try` block.\n",
        "    *   **`except`:** If an exception occurs in the `try` block, the code in the corresponding `except` block is executed.\n",
        "    *   **`else` (optional):** Code in the `else` block is executed if no exception occurs in the `try` block.\n",
        "    *   **`finally` (optional):** Code in the `finally` block is always executed, regardless of whether an exception occurred.\n",
        "\n",
        "13. **Why is memory management important in Python?**\n",
        "    *   Efficient memory management is crucial to prevent memory leaks (unused memory that is not released), improve performance, and ensure the stability of the program.\n",
        "\n",
        "14. **What is the role of try and except in exception handling?**\n",
        "    *   `try`: Encloses the code that might raise an exception.\n",
        "    *   `except`: Catches specific exceptions and provides a block of code to handle them.\n",
        "\n",
        "15. **How does Python's garbage collection system work?**\n",
        "    *   Python uses a combination of reference counting and a cyclic garbage collector. Reference counting keeps track of the number of references to an object. When the reference count drops to zero, the object is deallocated. The cyclic garbage collector handles circular references that reference counting cannot resolve.\n",
        "\n",
        "16. **What is the purpose of the else block in exception handling?**\n",
        "    *   The `else` block is executed only if the code in the `try` block completes without raising an exception. It's useful for code that should run only when the `try` block is successful.\n",
        "\n",
        "17. **What are the common logging levels in Python?**\n",
        "    *   DEBUG: Detailed information for debugging.\n",
        "    *   INFO: General information about the program's execution.\n",
        "    *   WARNING: Indicates a potential issue that doesn't prevent the program from running.\n",
        "    *   ERROR: Indicates an error that prevents a specific operation from completing.\n",
        "    *   CRITICAL: Indicates a serious error that might cause the program to terminate.\n",
        "\n",
        "18. **What is the difference between os.fork() and multiprocessing in Python?**\n",
        "    *   `os.fork()`: Creates a new process that is a copy of the parent process. It's available on Unix-like systems.\n",
        "    *   `multiprocessing`: A cross-platform module that provides a higher-level API for creating and managing processes. It's generally preferred over `os.fork()` for its portability and ease of use.\n",
        "\n",
        "19. **What is the importance of closing a file in Python?**\n",
        "    *   Closing a file releases the resources associated with it, such as file handles and memory buffers. Failing to close files can lead to resource leaks, data corruption, or other issues. The `with` statement is the recommended way to ensure files are closed properly.\n",
        "\n",
        "20. **What is the difference between file.read() and file.readline() in Python?**\n",
        "    *   `file.read()`: Reads the entire content of the file as a single string.\n",
        "    *   `file.readline()`: Reads a single line from the file, including the newline character at the end.\n",
        "\n",
        "21. **What is the logging module in Python used for?**\n",
        "    *   The `logging` module in Python is used for creating and managing logs, allowing developers to record events and messages during program execution.\n",
        "\n",
        "22. **What is the os module in Python used for in file handling?**\n",
        "    *   The `os` module provides a way to interact with the operating system, including file system operations like creating directories, changing the current directory, listing files, and removing files.\n",
        "\n",
        "23. **What are the challenges associated with memory management in Python?**\n",
        "    *   **Memory Leaks:** Objects that are no longer needed but are not deallocated, consuming memory unnecessarily.\n",
        "    *   **Fragmentation:** Memory becomes fragmented when memory blocks are allocated and deallocated, leaving small, unusable gaps.\n",
        "    *   **Performance Overhead:** Garbage collection can introduce performance overhead, especially in applications with high memory allocation and deallocation rates.\n",
        "\n",
        "24. **How do you raise an exception manually in Python?**\n",
        "    *   You can raise an exception manually using the `raise` keyword followed by an exception class or instance. For example: `raise ValueError(\"Invalid input\")`.\n",
        "\n",
        "25. **Why is it important to use multithreading in certain applications?**\n",
        "    *   Multithreading is useful for applications that involve I/O-bound tasks, such as reading from files, making network requests, or interacting with databases. It allows the program to perform other tasks while waiting for these operations to complete, improving responsiveness and efficiency."
      ]
    },
    {
      "cell_type": "markdown",
      "metadata": {
        "id": "c9b04585"
      },
      "source": [
        "Here are the answers to your questions about Python:\n",
        "\n",
        "1.  **How can you open a file for writing in Python and write a string to it?**\n",
        "    "
      ]
    },
    {
      "cell_type": "code",
      "execution_count": 16,
      "metadata": {
        "colab": {
          "base_uri": "https://localhost:8080/"
        },
        "id": "iE0sXZbEWeFN",
        "outputId": "c5cd41c9-7bf7-4c2c-e8ce-4d89ccfb54c1"
      },
      "outputs": [
        {
          "name": "stdout",
          "output_type": "stream",
          "text": [
            "Hello World\n",
            "This is my notebook\n"
          ]
        }
      ],
      "source": [
        "with open('/content/sample_data/my_test_file.txt', 'w') as f:\n",
        "  f.write('Hello World\\n')\n",
        "  f.write('This is my notebook')\n",
        "\n",
        "with open('/content/sample_data/my_test_file.txt', 'r') as f:\n",
        "  print(f.read())"
      ]
    },
    {
      "cell_type": "code",
      "execution_count": null,
      "metadata": {
        "id": "1F6cSLmDo7Qs"
      },
      "outputs": [],
      "source": []
    },
    {
      "cell_type": "markdown",
      "metadata": {
        "id": "u1UU9abjWYkk"
      },
      "source": [
        "2.  **Write a Python program to read the contents of a file and print each line.**"
      ]
    },
    {
      "cell_type": "code",
      "execution_count": 17,
      "metadata": {
        "colab": {
          "base_uri": "https://localhost:8080/"
        },
        "id": "a3e267d7",
        "outputId": "f590d9f4-0360-40d0-d68e-a6f058d9965d"
      },
      "outputs": [
        {
          "name": "stdout",
          "output_type": "stream",
          "text": [
            "Hello World\n",
            "This is my notebook\n"
          ]
        }
      ],
      "source": [
        "    try:\n",
        "        with open('/content/sample_data/my_test_file.txt', 'r') as f:\n",
        "            for line in f:\n",
        "                print(line.strip()) # Use strip() to remove trailing newline characters\n",
        "    except FileNotFoundError:\n",
        "        print(\"Error: The file was not found.\")"
      ]
    },
    {
      "cell_type": "markdown",
      "metadata": {
        "id": "9226ecb2"
      },
      "source": [
        "3.  **How would you handle a case where the file doesn't exist while trying to open it for reading?**"
      ]
    },
    {
      "cell_type": "code",
      "execution_count": 7,
      "metadata": {
        "colab": {
          "base_uri": "https://localhost:8080/"
        },
        "id": "e7014121",
        "outputId": "271f6df9-98a3-428d-ecbb-05782319272f"
      },
      "outputs": [
        {
          "name": "stdout",
          "output_type": "stream",
          "text": [
            "Error: The file does not exist.\n"
          ]
        }
      ],
      "source": [
        "    try:\n",
        "        with open('non_existent_file.txt', 'r') as f:\n",
        "            content = f.read()\n",
        "            print(content)\n",
        "    except FileNotFoundError:\n",
        "        print(\"Error: The file does not exist.\")"
      ]
    },
    {
      "cell_type": "markdown",
      "metadata": {
        "id": "07edccc4"
      },
      "source": [
        "4.  **Write a Python script that reads from one file and writes its content to another file.**"
      ]
    },
    {
      "cell_type": "code",
      "execution_count": 18,
      "metadata": {
        "colab": {
          "base_uri": "https://localhost:8080/"
        },
        "id": "47215220",
        "outputId": "012efcb9-a0e1-4381-d395-46755769ecbd"
      },
      "outputs": [
        {
          "name": "stdout",
          "output_type": "stream",
          "text": [
            "Content copied successfully.\n"
          ]
        }
      ],
      "source": [
        "    try:\n",
        "        with open('/content/sample_data/my_test_file.txt', 'r') as source_file:\n",
        "            with open('destination.txt', 'w') as destination_file:\n",
        "                content = source_file.read()\n",
        "                destination_file.write(content)\n",
        "        print(\"Content copied successfully.\")\n",
        "    except FileNotFoundError:\n",
        "        print(\"Error: The source file was not found.\")\n",
        "    except Exception as e:\n",
        "        print(f\"An error occurred: {e}\")"
      ]
    },
    {
      "cell_type": "markdown",
      "metadata": {
        "id": "a7d3840c"
      },
      "source": [
        "5.  **How would you catch and handle division by zero error in Python?**"
      ]
    },
    {
      "cell_type": "code",
      "execution_count": null,
      "metadata": {
        "colab": {
          "base_uri": "https://localhost:8080/"
        },
        "id": "f361f8c8",
        "outputId": "339c2cb9-62b2-4f67-f813-ad4d7262b263"
      },
      "outputs": [
        {
          "name": "stdout",
          "output_type": "stream",
          "text": [
            "Error: Cannot divide by zero.\n"
          ]
        }
      ],
      "source": [
        "    try:\n",
        "        result = 10 / 0\n",
        "    except ZeroDivisionError:\n",
        "        print(\"Error: Cannot divide by zero.\")"
      ]
    },
    {
      "cell_type": "markdown",
      "metadata": {
        "id": "26f388ef"
      },
      "source": [
        "6.  **Write a Python program that logs an error message to a log file when a division by zero exception occurs.**"
      ]
    },
    {
      "cell_type": "code",
      "execution_count": 10,
      "metadata": {
        "colab": {
          "base_uri": "https://localhost:8080/"
        },
        "id": "235f05f5",
        "outputId": "4f0b624b-d27c-4d29-82f9-9f58a8f5d7fe"
      },
      "outputs": [
        {
          "name": "stderr",
          "output_type": "stream",
          "text": [
            "ERROR:root:Division by zero occurred.\n"
          ]
        },
        {
          "name": "stdout",
          "output_type": "stream",
          "text": [
            "An error occurred and was logged.\n"
          ]
        }
      ],
      "source": [
        "    import logging\n",
        "\n",
        "    logging.basicConfig(filename='app.log', level=logging.ERROR)\n",
        "\n",
        "    try:\n",
        "        result = 10 / 0\n",
        "    except ZeroDivisionError:\n",
        "        logging.error(\"Division by zero occurred.\")\n",
        "        print(\"An error occurred and was logged.\")"
      ]
    },
    {
      "cell_type": "markdown",
      "metadata": {
        "id": "7f43552e"
      },
      "source": [
        "7.  **How do you log information at different levels (INFO, ERROR, WARNING) in Python using the logging module?**"
      ]
    },
    {
      "cell_type": "code",
      "execution_count": 11,
      "metadata": {
        "colab": {
          "base_uri": "https://localhost:8080/"
        },
        "id": "42729d93",
        "outputId": "41f9c828-36ac-45d9-9ebc-bcdf4fe3d316"
      },
      "outputs": [
        {
          "name": "stderr",
          "output_type": "stream",
          "text": [
            "WARNING:root:This is a warning message.\n",
            "ERROR:root:This is an error message.\n"
          ]
        }
      ],
      "source": [
        "    import logging\n",
        "\n",
        "    logging.basicConfig(level=logging.INFO) # Set the root logger level\n",
        "\n",
        "    logging.info(\"This is an informational message.\")\n",
        "    logging.warning(\"This is a warning message.\")\n",
        "    logging.error(\"This is an error message.\")"
      ]
    },
    {
      "cell_type": "markdown",
      "metadata": {
        "id": "f2a4ecc0"
      },
      "source": [
        "8.  **Write a program to handle a file opening error using exception handling.**"
      ]
    },
    {
      "cell_type": "code",
      "execution_count": null,
      "metadata": {
        "colab": {
          "base_uri": "https://localhost:8080/"
        },
        "id": "371464ed",
        "outputId": "14368d08-f7e7-4ec0-ebe6-4b2942b0e3ff"
      },
      "outputs": [
        {
          "name": "stdout",
          "output_type": "stream",
          "text": [
            "Error opening file: [Errno 2] No such file or directory: 'some_file.txt'\n"
          ]
        }
      ],
      "source": [
        "    try:\n",
        "        with open('some_file.txt', 'r') as f:\n",
        "            content = f.read()\n",
        "            print(content)\n",
        "    except IOError as e:\n",
        "        print(f\"Error opening file: {e}\")"
      ]
    },
    {
      "cell_type": "markdown",
      "metadata": {
        "id": "c34b17a2"
      },
      "source": [
        "9.  **How can you read a file line by line and store its content in a list in Python?**"
      ]
    },
    {
      "cell_type": "code",
      "execution_count": 19,
      "metadata": {
        "colab": {
          "base_uri": "https://localhost:8080/"
        },
        "id": "cb9d6176",
        "outputId": "dfc7361a-15bf-472e-dfd2-4cd9989c8e81"
      },
      "outputs": [
        {
          "name": "stdout",
          "output_type": "stream",
          "text": [
            "['Hello World', 'This is my notebook']\n"
          ]
        }
      ],
      "source": [
        "    lines = []\n",
        "    try:\n",
        "        with open('/content/sample_data/my_test_file.txt', 'r') as f:\n",
        "            for line in f:\n",
        "                lines.append(line.strip())\n",
        "    except FileNotFoundError:\n",
        "        print(\"Error: The file was not found.\")\n",
        "\n",
        "    print(lines)"
      ]
    },
    {
      "cell_type": "markdown",
      "metadata": {
        "id": "12f6bafc"
      },
      "source": [
        "10. **How can you append data to an existing file in Python?**"
      ]
    },
    {
      "cell_type": "code",
      "execution_count": 23,
      "metadata": {
        "colab": {
          "base_uri": "https://localhost:8080/"
        },
        "id": "558e5139",
        "outputId": "a174c072-4e97-407a-8126-7e609596cbef"
      },
      "outputs": [
        {
          "name": "stdout",
          "output_type": "stream",
          "text": [
            "Hello World\n",
            "This is my notebook\n",
            "This line is appended.\n",
            "This line is appended.\n",
            "This line is appended.\n",
            "This line is appended.\n"
          ]
        }
      ],
      "source": [
        "    with open('/content/sample_data/my_test_file.txt', 'a') as f:\n",
        "        f.write('\\nThis line is appended.')\n",
        "\n",
        "    with open('/content/sample_data/my_test_file.txt', 'r') as f:\n",
        "        print(f.read())"
      ]
    },
    {
      "cell_type": "markdown",
      "metadata": {
        "id": "4d17fff6"
      },
      "source": [
        "11. **Write a Python program that uses a try-except block to handle an error when attempting to access a dictionary key that doesn't exist.**"
      ]
    },
    {
      "cell_type": "code",
      "execution_count": null,
      "metadata": {
        "colab": {
          "base_uri": "https://localhost:8080/"
        },
        "id": "938192f4",
        "outputId": "989f4edf-3a15-41b4-9f3c-c033c979a5a4"
      },
      "outputs": [
        {
          "name": "stdout",
          "output_type": "stream",
          "text": [
            "Error: The key does not exist in the dictionary.\n"
          ]
        }
      ],
      "source": [
        "    my_dict = {'a': 1, 'b': 2}\n",
        "\n",
        "    try:\n",
        "        value = my_dict['c']\n",
        "        print(value)\n",
        "    except KeyError:\n",
        "        print(\"Error: The key does not exist in the dictionary.\")"
      ]
    },
    {
      "cell_type": "markdown",
      "metadata": {
        "id": "5e4a2905"
      },
      "source": [
        "12. **Write a program that demonstrates using multiple except blocks to handle different types of exceptions.**"
      ]
    },
    {
      "cell_type": "code",
      "execution_count": null,
      "metadata": {
        "colab": {
          "base_uri": "https://localhost:8080/"
        },
        "id": "9337359b",
        "outputId": "48a44246-8249-4379-c2e9-dcadd3c5de75"
      },
      "outputs": [
        {
          "name": "stdout",
          "output_type": "stream",
          "text": [
            "Caught a ValueError (e.g., invalid conversion).\n"
          ]
        }
      ],
      "source": [
        "    try:\n",
        "        # Example that might raise a ZeroDivisionError or a TypeError\n",
        "        result = 10 / int('abc')\n",
        "    except ZeroDivisionError:\n",
        "        print(\"Caught a ZeroDivisionError.\")\n",
        "    except ValueError:\n",
        "        print(\"Caught a ValueError (e.g., invalid conversion).\")\n",
        "    except Exception as e:\n",
        "        print(f\"Caught an unexpected error: {e}\")"
      ]
    },
    {
      "cell_type": "markdown",
      "metadata": {
        "id": "12950710"
      },
      "source": [
        "13. **How would you check if a file exists before attempting to read it in Python?**"
      ]
    },
    {
      "cell_type": "code",
      "execution_count": 24,
      "metadata": {
        "colab": {
          "base_uri": "https://localhost:8080/"
        },
        "id": "e3847e28",
        "outputId": "1c137368-7c47-43d6-906b-49eeb1df1d9e"
      },
      "outputs": [
        {
          "name": "stdout",
          "output_type": "stream",
          "text": [
            "The file '/content/sample_data/my_test_file.txt' exists.\n",
            "Hello World\n",
            "This is my notebook\n",
            "This line is appended.\n",
            "This line is appended.\n",
            "This line is appended.\n",
            "This line is appended.\n"
          ]
        }
      ],
      "source": [
        "    import os\n",
        "\n",
        "    file_name = '/content/sample_data/my_test_file.txt'\n",
        "    if os.path.exists(file_name):\n",
        "        print(f\"The file '{file_name}' exists.\")\n",
        "        try:\n",
        "            with open(file_name, 'r') as f:\n",
        "                content = f.read()\n",
        "                print(content)\n",
        "        except IOError as e:\n",
        "            print(f\"Error reading file: {e}\")\n",
        "    else:\n",
        "        print(f\"The file '{file_name}' does not exist.\")"
      ]
    },
    {
      "cell_type": "markdown",
      "metadata": {
        "id": "cf192b8a"
      },
      "source": [
        "14. **Write a program that uses the logging module to log both informational and error messages.**"
      ]
    },
    {
      "cell_type": "code",
      "execution_count": null,
      "metadata": {
        "colab": {
          "base_uri": "https://localhost:8080/"
        },
        "id": "0b170b77",
        "outputId": "8cd78863-6306-4b17-fbef-10afddea6c99"
      },
      "outputs": [
        {
          "name": "stderr",
          "output_type": "stream",
          "text": [
            "ERROR:root:Division by zero occurred.\n",
            "Traceback (most recent call last):\n",
            "  File \"/tmp/ipython-input-921658315.py\", line 8, in <cell line: 0>\n",
            "    result = 10 / 0\n",
            "             ~~~^~~\n",
            "ZeroDivisionError: division by zero\n"
          ]
        },
        {
          "name": "stdout",
          "output_type": "stream",
          "text": [
            "An error occurred.\n"
          ]
        }
      ],
      "source": [
        "    import logging\n",
        "\n",
        "    logging.basicConfig(level=logging.INFO, format='%(asctime)s - %(levelname)s - %(message)s')\n",
        "\n",
        "    logging.info(\"Program started.\")\n",
        "\n",
        "    try:\n",
        "        result = 10 / 0\n",
        "    except ZeroDivisionError:\n",
        "        logging.error(\"Division by zero occurred.\", exc_info=True) # exc_info=True adds traceback\n",
        "        print(\"An error occurred.\")\n",
        "\n",
        "    logging.info(\"Program finished.\")"
      ]
    },
    {
      "cell_type": "markdown",
      "metadata": {
        "id": "3d018870"
      },
      "source": [
        "15. **Write a Python program that prints the content of a file and handles the case when the file is empty.**"
      ]
    },
    {
      "cell_type": "code",
      "execution_count": 7,
      "metadata": {
        "colab": {
          "base_uri": "https://localhost:8080/"
        },
        "id": "7a645f30",
        "outputId": "dc76f414-0064-4125-9376-6a7516add4e6"
      },
      "outputs": [
        {
          "name": "stdout",
          "output_type": "stream",
          "text": [
            "The file 'empty_file.txt' is empty.\n"
          ]
        }
      ],
      "source": [
        "    import os\n",
        "\n",
        "    file_name = 'empty_file.txt'\n",
        "\n",
        "    # Create an empty file for demonstration\n",
        "    with open(file_name, 'w') as f:\n",
        "        pass\n",
        "\n",
        "    try:\n",
        "        if os.path.exists(file_name):\n",
        "            if os.path.getsize(file_name) == 0:\n",
        "                print(f\"The file '{file_name}' is empty.\")\n",
        "            else:\n",
        "                with open(file_name, 'r') as f:\n",
        "                    content = f.read()\n",
        "                    print(f\"Content of '{file_name}':\\n{content}\")\n",
        "        else:\n",
        "            print(f\"The file '{file_name}' does not exist.\")\n",
        "    except IOError as e:\n",
        "        print(f\"Error handling file: {e}\")"
      ]
    },
    {
      "cell_type": "markdown",
      "metadata": {
        "id": "e56077ae"
      },
      "source": [
        "16. **Demonstrate how to use memory profiling to check the memory usage of a small program.**"
      ]
    },
    {
      "cell_type": "code",
      "execution_count": 16,
      "metadata": {
        "colab": {
          "base_uri": "https://localhost:8080/"
        },
        "id": "c2e8b9c9",
        "outputId": "3d58d9e1-2544-452f-9acb-399e2a35b4f9"
      },
      "outputs": [
        {
          "name": "stdout",
          "output_type": "stream",
          "text": [
            "Filename: c:\\Users\\Vivek\\Downloads\\memory_file.py\n",
            "\n",
            "Line #    Mem usage    Increment  Occurrences   Line Contents\n",
            "=============================================================\n",
            "     3    185.1 MiB    185.1 MiB           1   @profile\n",
            "     4                                         def my_function():\n",
            "     5    192.7 MiB      7.6 MiB           1       a = print(\"this is memory block\")\n",
            "     6    207.9 MiB     15.3 MiB           1       b = [2] * (2 * 10**6)\n",
            "     7    192.7 MiB    -15.3 MiB           1       del b\n",
            "     8    192.7 MiB      0.0 MiB           1       return a\n",
            "\n",
            "\n"
          ]
        },
        {
          "data": {
            "text/plain": [
              "[1,\n",
              " 1,\n",
              " 1,\n",
              " 1,\n",
              " 1,\n",
              " 1,\n",
              " 1,\n",
              " 1,\n",
              " 1,\n",
              " 1,\n",
              " 1,\n",
              " 1,\n",
              " 1,\n",
              " 1,\n",
              " 1,\n",
              " 1,\n",
              " 1,\n",
              " 1,\n",
              " 1,\n",
              " 1,\n",
              " 1,\n",
              " 1,\n",
              " 1,\n",
              " 1,\n",
              " 1,\n",
              " 1,\n",
              " 1,\n",
              " 1,\n",
              " 1,\n",
              " 1,\n",
              " 1,\n",
              " 1,\n",
              " 1,\n",
              " 1,\n",
              " 1,\n",
              " 1,\n",
              " 1,\n",
              " 1,\n",
              " 1,\n",
              " 1,\n",
              " 1,\n",
              " 1,\n",
              " 1,\n",
              " 1,\n",
              " 1,\n",
              " 1,\n",
              " 1,\n",
              " 1,\n",
              " 1,\n",
              " 1,\n",
              " 1,\n",
              " 1,\n",
              " 1,\n",
              " 1,\n",
              " 1,\n",
              " 1,\n",
              " 1,\n",
              " 1,\n",
              " 1,\n",
              " 1,\n",
              " 1,\n",
              " 1,\n",
              " 1,\n",
              " 1,\n",
              " 1,\n",
              " 1,\n",
              " 1,\n",
              " 1,\n",
              " 1,\n",
              " 1,\n",
              " 1,\n",
              " 1,\n",
              " 1,\n",
              " 1,\n",
              " 1,\n",
              " 1,\n",
              " 1,\n",
              " 1,\n",
              " 1,\n",
              " 1,\n",
              " 1,\n",
              " 1,\n",
              " 1,\n",
              " 1,\n",
              " 1,\n",
              " 1,\n",
              " 1,\n",
              " 1,\n",
              " 1,\n",
              " 1,\n",
              " 1,\n",
              " 1,\n",
              " 1,\n",
              " 1,\n",
              " 1,\n",
              " 1,\n",
              " 1,\n",
              " 1,\n",
              " 1,\n",
              " 1,\n",
              " 1,\n",
              " 1,\n",
              " 1,\n",
              " 1,\n",
              " 1,\n",
              " 1,\n",
              " 1,\n",
              " 1,\n",
              " 1,\n",
              " 1,\n",
              " 1,\n",
              " 1,\n",
              " 1,\n",
              " 1,\n",
              " 1,\n",
              " 1,\n",
              " 1,\n",
              " 1,\n",
              " 1,\n",
              " 1,\n",
              " 1,\n",
              " 1,\n",
              " 1,\n",
              " 1,\n",
              " 1,\n",
              " 1,\n",
              " 1,\n",
              " 1,\n",
              " 1,\n",
              " 1,\n",
              " 1,\n",
              " 1,\n",
              " 1,\n",
              " 1,\n",
              " 1,\n",
              " 1,\n",
              " 1,\n",
              " 1,\n",
              " 1,\n",
              " 1,\n",
              " 1,\n",
              " 1,\n",
              " 1,\n",
              " 1,\n",
              " 1,\n",
              " 1,\n",
              " 1,\n",
              " 1,\n",
              " 1,\n",
              " 1,\n",
              " 1,\n",
              " 1,\n",
              " 1,\n",
              " 1,\n",
              " 1,\n",
              " 1,\n",
              " 1,\n",
              " 1,\n",
              " 1,\n",
              " 1,\n",
              " 1,\n",
              " 1,\n",
              " 1,\n",
              " 1,\n",
              " 1,\n",
              " 1,\n",
              " 1,\n",
              " 1,\n",
              " 1,\n",
              " 1,\n",
              " 1,\n",
              " 1,\n",
              " 1,\n",
              " 1,\n",
              " 1,\n",
              " 1,\n",
              " 1,\n",
              " 1,\n",
              " 1,\n",
              " 1,\n",
              " 1,\n",
              " 1,\n",
              " 1,\n",
              " 1,\n",
              " 1,\n",
              " 1,\n",
              " 1,\n",
              " 1,\n",
              " 1,\n",
              " 1,\n",
              " 1,\n",
              " 1,\n",
              " 1,\n",
              " 1,\n",
              " 1,\n",
              " 1,\n",
              " 1,\n",
              " 1,\n",
              " 1,\n",
              " 1,\n",
              " 1,\n",
              " 1,\n",
              " 1,\n",
              " 1,\n",
              " 1,\n",
              " 1,\n",
              " 1,\n",
              " 1,\n",
              " 1,\n",
              " 1,\n",
              " 1,\n",
              " 1,\n",
              " 1,\n",
              " 1,\n",
              " 1,\n",
              " 1,\n",
              " 1,\n",
              " 1,\n",
              " 1,\n",
              " 1,\n",
              " 1,\n",
              " 1,\n",
              " 1,\n",
              " 1,\n",
              " 1,\n",
              " 1,\n",
              " 1,\n",
              " 1,\n",
              " 1,\n",
              " 1,\n",
              " 1,\n",
              " 1,\n",
              " 1,\n",
              " 1,\n",
              " 1,\n",
              " 1,\n",
              " 1,\n",
              " 1,\n",
              " 1,\n",
              " 1,\n",
              " 1,\n",
              " 1,\n",
              " 1,\n",
              " 1,\n",
              " 1,\n",
              " 1,\n",
              " 1,\n",
              " 1,\n",
              " 1,\n",
              " 1,\n",
              " 1,\n",
              " 1,\n",
              " 1,\n",
              " 1,\n",
              " 1,\n",
              " 1,\n",
              " 1,\n",
              " 1,\n",
              " 1,\n",
              " 1,\n",
              " 1,\n",
              " 1,\n",
              " 1,\n",
              " 1,\n",
              " 1,\n",
              " 1,\n",
              " 1,\n",
              " 1,\n",
              " 1,\n",
              " 1,\n",
              " 1,\n",
              " 1,\n",
              " 1,\n",
              " 1,\n",
              " 1,\n",
              " 1,\n",
              " 1,\n",
              " 1,\n",
              " 1,\n",
              " 1,\n",
              " 1,\n",
              " 1,\n",
              " 1,\n",
              " 1,\n",
              " 1,\n",
              " 1,\n",
              " 1,\n",
              " 1,\n",
              " 1,\n",
              " 1,\n",
              " 1,\n",
              " 1,\n",
              " 1,\n",
              " 1,\n",
              " 1,\n",
              " 1,\n",
              " 1,\n",
              " 1,\n",
              " 1,\n",
              " 1,\n",
              " 1,\n",
              " 1,\n",
              " 1,\n",
              " 1,\n",
              " 1,\n",
              " 1,\n",
              " 1,\n",
              " 1,\n",
              " 1,\n",
              " 1,\n",
              " 1,\n",
              " 1,\n",
              " 1,\n",
              " 1,\n",
              " 1,\n",
              " 1,\n",
              " 1,\n",
              " 1,\n",
              " 1,\n",
              " 1,\n",
              " 1,\n",
              " 1,\n",
              " 1,\n",
              " 1,\n",
              " 1,\n",
              " 1,\n",
              " 1,\n",
              " 1,\n",
              " 1,\n",
              " 1,\n",
              " 1,\n",
              " 1,\n",
              " 1,\n",
              " 1,\n",
              " 1,\n",
              " 1,\n",
              " 1,\n",
              " 1,\n",
              " 1,\n",
              " 1,\n",
              " 1,\n",
              " 1,\n",
              " 1,\n",
              " 1,\n",
              " 1,\n",
              " 1,\n",
              " 1,\n",
              " 1,\n",
              " 1,\n",
              " 1,\n",
              " 1,\n",
              " 1,\n",
              " 1,\n",
              " 1,\n",
              " 1,\n",
              " 1,\n",
              " 1,\n",
              " 1,\n",
              " 1,\n",
              " 1,\n",
              " 1,\n",
              " 1,\n",
              " 1,\n",
              " 1,\n",
              " 1,\n",
              " 1,\n",
              " 1,\n",
              " 1,\n",
              " 1,\n",
              " 1,\n",
              " 1,\n",
              " 1,\n",
              " 1,\n",
              " 1,\n",
              " 1,\n",
              " 1,\n",
              " 1,\n",
              " 1,\n",
              " 1,\n",
              " 1,\n",
              " 1,\n",
              " 1,\n",
              " 1,\n",
              " 1,\n",
              " 1,\n",
              " 1,\n",
              " 1,\n",
              " 1,\n",
              " 1,\n",
              " 1,\n",
              " 1,\n",
              " 1,\n",
              " 1,\n",
              " 1,\n",
              " 1,\n",
              " 1,\n",
              " 1,\n",
              " 1,\n",
              " 1,\n",
              " 1,\n",
              " 1,\n",
              " 1,\n",
              " 1,\n",
              " 1,\n",
              " 1,\n",
              " 1,\n",
              " 1,\n",
              " 1,\n",
              " 1,\n",
              " 1,\n",
              " 1,\n",
              " 1,\n",
              " 1,\n",
              " 1,\n",
              " 1,\n",
              " 1,\n",
              " 1,\n",
              " 1,\n",
              " 1,\n",
              " 1,\n",
              " 1,\n",
              " 1,\n",
              " 1,\n",
              " 1,\n",
              " 1,\n",
              " 1,\n",
              " 1,\n",
              " 1,\n",
              " 1,\n",
              " 1,\n",
              " 1,\n",
              " 1,\n",
              " 1,\n",
              " 1,\n",
              " 1,\n",
              " 1,\n",
              " 1,\n",
              " 1,\n",
              " 1,\n",
              " 1,\n",
              " 1,\n",
              " 1,\n",
              " 1,\n",
              " 1,\n",
              " 1,\n",
              " 1,\n",
              " 1,\n",
              " 1,\n",
              " 1,\n",
              " 1,\n",
              " 1,\n",
              " 1,\n",
              " 1,\n",
              " 1,\n",
              " 1,\n",
              " 1,\n",
              " 1,\n",
              " 1,\n",
              " 1,\n",
              " 1,\n",
              " 1,\n",
              " 1,\n",
              " 1,\n",
              " 1,\n",
              " 1,\n",
              " 1,\n",
              " 1,\n",
              " 1,\n",
              " 1,\n",
              " 1,\n",
              " 1,\n",
              " 1,\n",
              " 1,\n",
              " 1,\n",
              " 1,\n",
              " 1,\n",
              " 1,\n",
              " 1,\n",
              " 1,\n",
              " 1,\n",
              " 1,\n",
              " 1,\n",
              " 1,\n",
              " 1,\n",
              " 1,\n",
              " 1,\n",
              " 1,\n",
              " 1,\n",
              " 1,\n",
              " 1,\n",
              " 1,\n",
              " 1,\n",
              " 1,\n",
              " 1,\n",
              " 1,\n",
              " 1,\n",
              " 1,\n",
              " 1,\n",
              " 1,\n",
              " 1,\n",
              " 1,\n",
              " 1,\n",
              " 1,\n",
              " 1,\n",
              " 1,\n",
              " 1,\n",
              " 1,\n",
              " 1,\n",
              " 1,\n",
              " 1,\n",
              " 1,\n",
              " 1,\n",
              " 1,\n",
              " 1,\n",
              " 1,\n",
              " 1,\n",
              " 1,\n",
              " 1,\n",
              " 1,\n",
              " 1,\n",
              " 1,\n",
              " 1,\n",
              " 1,\n",
              " 1,\n",
              " 1,\n",
              " 1,\n",
              " 1,\n",
              " 1,\n",
              " 1,\n",
              " 1,\n",
              " 1,\n",
              " 1,\n",
              " 1,\n",
              " 1,\n",
              " 1,\n",
              " 1,\n",
              " 1,\n",
              " 1,\n",
              " 1,\n",
              " 1,\n",
              " 1,\n",
              " 1,\n",
              " 1,\n",
              " 1,\n",
              " 1,\n",
              " 1,\n",
              " 1,\n",
              " 1,\n",
              " 1,\n",
              " 1,\n",
              " 1,\n",
              " 1,\n",
              " 1,\n",
              " 1,\n",
              " 1,\n",
              " 1,\n",
              " 1,\n",
              " 1,\n",
              " 1,\n",
              " 1,\n",
              " 1,\n",
              " 1,\n",
              " 1,\n",
              " 1,\n",
              " 1,\n",
              " 1,\n",
              " 1,\n",
              " 1,\n",
              " 1,\n",
              " 1,\n",
              " 1,\n",
              " 1,\n",
              " 1,\n",
              " 1,\n",
              " 1,\n",
              " 1,\n",
              " 1,\n",
              " 1,\n",
              " 1,\n",
              " 1,\n",
              " 1,\n",
              " 1,\n",
              " 1,\n",
              " 1,\n",
              " 1,\n",
              " 1,\n",
              " 1,\n",
              " 1,\n",
              " 1,\n",
              " 1,\n",
              " 1,\n",
              " 1,\n",
              " 1,\n",
              " 1,\n",
              " 1,\n",
              " 1,\n",
              " 1,\n",
              " 1,\n",
              " 1,\n",
              " 1,\n",
              " 1,\n",
              " 1,\n",
              " 1,\n",
              " 1,\n",
              " 1,\n",
              " 1,\n",
              " 1,\n",
              " 1,\n",
              " 1,\n",
              " 1,\n",
              " 1,\n",
              " 1,\n",
              " 1,\n",
              " 1,\n",
              " 1,\n",
              " 1,\n",
              " 1,\n",
              " 1,\n",
              " 1,\n",
              " 1,\n",
              " 1,\n",
              " 1,\n",
              " 1,\n",
              " 1,\n",
              " 1,\n",
              " 1,\n",
              " 1,\n",
              " 1,\n",
              " 1,\n",
              " 1,\n",
              " 1,\n",
              " 1,\n",
              " 1,\n",
              " 1,\n",
              " 1,\n",
              " 1,\n",
              " 1,\n",
              " 1,\n",
              " 1,\n",
              " 1,\n",
              " 1,\n",
              " 1,\n",
              " 1,\n",
              " 1,\n",
              " 1,\n",
              " 1,\n",
              " 1,\n",
              " 1,\n",
              " 1,\n",
              " 1,\n",
              " 1,\n",
              " 1,\n",
              " 1,\n",
              " 1,\n",
              " 1,\n",
              " 1,\n",
              " 1,\n",
              " 1,\n",
              " 1,\n",
              " 1,\n",
              " 1,\n",
              " 1,\n",
              " 1,\n",
              " 1,\n",
              " 1,\n",
              " 1,\n",
              " 1,\n",
              " 1,\n",
              " 1,\n",
              " 1,\n",
              " 1,\n",
              " 1,\n",
              " 1,\n",
              " 1,\n",
              " 1,\n",
              " 1,\n",
              " 1,\n",
              " 1,\n",
              " 1,\n",
              " 1,\n",
              " 1,\n",
              " 1,\n",
              " 1,\n",
              " 1,\n",
              " 1,\n",
              " 1,\n",
              " 1,\n",
              " 1,\n",
              " 1,\n",
              " 1,\n",
              " 1,\n",
              " 1,\n",
              " 1,\n",
              " 1,\n",
              " 1,\n",
              " 1,\n",
              " 1,\n",
              " 1,\n",
              " 1,\n",
              " 1,\n",
              " 1,\n",
              " 1,\n",
              " 1,\n",
              " 1,\n",
              " 1,\n",
              " 1,\n",
              " 1,\n",
              " 1,\n",
              " 1,\n",
              " 1,\n",
              " 1,\n",
              " 1,\n",
              " 1,\n",
              " 1,\n",
              " 1,\n",
              " 1,\n",
              " 1,\n",
              " 1,\n",
              " 1,\n",
              " 1,\n",
              " 1,\n",
              " 1,\n",
              " 1,\n",
              " 1,\n",
              " 1,\n",
              " 1,\n",
              " 1,\n",
              " 1,\n",
              " 1,\n",
              " 1,\n",
              " 1,\n",
              " 1,\n",
              " 1,\n",
              " 1,\n",
              " 1,\n",
              " 1,\n",
              " 1,\n",
              " 1,\n",
              " 1,\n",
              " 1,\n",
              " 1,\n",
              " 1,\n",
              " 1,\n",
              " 1,\n",
              " 1,\n",
              " 1,\n",
              " 1,\n",
              " 1,\n",
              " 1,\n",
              " 1,\n",
              " 1,\n",
              " 1,\n",
              " 1,\n",
              " 1,\n",
              " 1,\n",
              " 1,\n",
              " 1,\n",
              " 1,\n",
              " 1,\n",
              " 1,\n",
              " 1,\n",
              " 1,\n",
              " 1,\n",
              " 1,\n",
              " 1,\n",
              " 1,\n",
              " 1,\n",
              " 1,\n",
              " 1,\n",
              " 1,\n",
              " 1,\n",
              " 1,\n",
              " 1,\n",
              " 1,\n",
              " 1,\n",
              " 1,\n",
              " 1,\n",
              " 1,\n",
              " 1,\n",
              " 1,\n",
              " 1,\n",
              " 1,\n",
              " 1,\n",
              " 1,\n",
              " 1,\n",
              " 1,\n",
              " 1,\n",
              " 1,\n",
              " 1,\n",
              " 1,\n",
              " 1,\n",
              " 1,\n",
              " 1,\n",
              " 1,\n",
              " 1,\n",
              " 1,\n",
              " 1,\n",
              " 1,\n",
              " 1,\n",
              " 1,\n",
              " 1,\n",
              " 1,\n",
              " 1,\n",
              " 1,\n",
              " 1,\n",
              " 1,\n",
              " 1,\n",
              " 1,\n",
              " 1,\n",
              " 1,\n",
              " 1,\n",
              " 1,\n",
              " 1,\n",
              " 1,\n",
              " 1,\n",
              " 1,\n",
              " 1,\n",
              " 1,\n",
              " 1,\n",
              " 1,\n",
              " 1,\n",
              " 1,\n",
              " 1,\n",
              " 1,\n",
              " 1,\n",
              " 1,\n",
              " 1,\n",
              " 1,\n",
              " 1,\n",
              " 1,\n",
              " 1,\n",
              " 1,\n",
              " 1,\n",
              " 1,\n",
              " 1,\n",
              " 1,\n",
              " 1,\n",
              " 1,\n",
              " 1,\n",
              " 1,\n",
              " 1,\n",
              " 1,\n",
              " 1,\n",
              " 1,\n",
              " 1,\n",
              " 1,\n",
              " 1,\n",
              " 1,\n",
              " 1,\n",
              " 1,\n",
              " 1,\n",
              " 1,\n",
              " 1,\n",
              " 1,\n",
              " 1,\n",
              " 1,\n",
              " 1,\n",
              " 1,\n",
              " 1,\n",
              " 1,\n",
              " 1,\n",
              " 1,\n",
              " 1,\n",
              " 1,\n",
              " 1,\n",
              " 1,\n",
              " 1,\n",
              " 1,\n",
              " 1,\n",
              " 1,\n",
              " 1,\n",
              " 1,\n",
              " 1,\n",
              " 1,\n",
              " 1,\n",
              " 1,\n",
              " 1,\n",
              " 1,\n",
              " 1,\n",
              " 1,\n",
              " 1,\n",
              " 1,\n",
              " 1,\n",
              " 1,\n",
              " 1,\n",
              " 1,\n",
              " 1,\n",
              " 1,\n",
              " 1,\n",
              " 1,\n",
              " 1,\n",
              " 1,\n",
              " 1,\n",
              " 1,\n",
              " 1,\n",
              " 1,\n",
              " 1,\n",
              " 1,\n",
              " 1,\n",
              " 1,\n",
              " 1,\n",
              " 1,\n",
              " 1,\n",
              " 1,\n",
              " 1,\n",
              " 1,\n",
              " 1,\n",
              " 1,\n",
              " 1,\n",
              " 1,\n",
              " 1,\n",
              " 1,\n",
              " 1,\n",
              " 1,\n",
              " 1,\n",
              " 1,\n",
              " 1,\n",
              " 1,\n",
              " 1,\n",
              " 1,\n",
              " 1,\n",
              " 1,\n",
              " 1,\n",
              " 1,\n",
              " 1,\n",
              " 1,\n",
              " 1,\n",
              " 1,\n",
              " 1,\n",
              " 1,\n",
              " 1,\n",
              " 1,\n",
              " 1,\n",
              " 1,\n",
              " 1,\n",
              " 1,\n",
              " 1,\n",
              " 1,\n",
              " 1,\n",
              " 1,\n",
              " 1,\n",
              " 1,\n",
              " 1,\n",
              " 1,\n",
              " 1,\n",
              " 1,\n",
              " 1,\n",
              " 1,\n",
              " 1,\n",
              " 1,\n",
              " 1,\n",
              " 1,\n",
              " 1,\n",
              " 1,\n",
              " 1,\n",
              " 1,\n",
              " 1,\n",
              " 1,\n",
              " 1,\n",
              " 1,\n",
              " 1,\n",
              " 1,\n",
              " 1,\n",
              " 1,\n",
              " 1,\n",
              " 1,\n",
              " 1,\n",
              " 1,\n",
              " 1,\n",
              " 1,\n",
              " 1,\n",
              " 1,\n",
              " 1,\n",
              " 1,\n",
              " 1,\n",
              " 1,\n",
              " 1,\n",
              " 1,\n",
              " 1,\n",
              " 1,\n",
              " 1,\n",
              " 1,\n",
              " 1,\n",
              " 1,\n",
              " 1,\n",
              " 1,\n",
              " 1,\n",
              " 1,\n",
              " 1,\n",
              " 1,\n",
              " 1,\n",
              " 1,\n",
              " 1,\n",
              " 1,\n",
              " 1,\n",
              " 1,\n",
              " 1,\n",
              " 1,\n",
              " 1,\n",
              " 1,\n",
              " ...]"
            ]
          },
          "execution_count": 16,
          "metadata": {},
          "output_type": "execute_result"
        }
      ],
      "source": [
        "from memory_file import my_function\n",
        "\n",
        "''' created file memory_file.py with folowing function \n",
        "from memory_profiler import profile, memory_usage\n",
        "\n",
        "@profile\n",
        "def my_function():\n",
        "    a = print(\"this is memory block\")\n",
        "    b = [2] * (2 * 10**6)\n",
        "    del b\n",
        "    return a\n",
        "\n",
        "\n",
        "'''\n",
        "\n",
        "my_function()\n"
      ]
    },
    {
      "cell_type": "markdown",
      "metadata": {
        "id": "4c8231bc"
      },
      "source": [
        "17. **Write a Python program to create and write a list of numbers to a file, one number per line.**"
      ]
    },
    {
      "cell_type": "code",
      "execution_count": null,
      "metadata": {
        "colab": {
          "base_uri": "https://localhost:8080/"
        },
        "id": "a7b2300d",
        "outputId": "0c28c737-9e8a-4f16-9c64-2d2a69506eb1"
      },
      "outputs": [
        {
          "name": "stdout",
          "output_type": "stream",
          "text": [
            "Numbers written to 'numbers.txt'.\n"
          ]
        }
      ],
      "source": [
        "    numbers = [10, 20, 30, 40, 50]\n",
        "    file_name = 'numbers.txt'\n",
        "\n",
        "    try:\n",
        "        with open(file_name, 'w') as f:\n",
        "            for number in numbers:\n",
        "                f.write(str(number) + '\\n')\n",
        "        print(f\"Numbers written to '{file_name}'.\")\n",
        "    except IOError as e:\n",
        "        print(f\"Error writing to file: {e}\")"
      ]
    },
    {
      "cell_type": "markdown",
      "metadata": {
        "id": "54f3ff3e"
      },
      "source": [
        "18. **How would you implement a basic logging setup that logs to a file with rotation after 1MB?**"
      ]
    },
    {
      "cell_type": "code",
      "execution_count": 17,
      "metadata": {
        "id": "7f2b9798"
      },
      "outputs": [],
      "source": [
        "    import logging\n",
        "    from logging.handlers import RotatingFileHandler\n",
        "\n",
        "    log_file = 'rotating_app.log'\n",
        "    max_bytes = 1024 * 1024 # 1 MB\n",
        "    backup_count = 5 # Keep up to 5 old log files\n",
        "\n",
        "    handler = RotatingFileHandler(log_file, maxBytes=max_bytes, backupCount=backup_count)\n",
        "    logging.basicConfig(level=logging.INFO, handlers=[handler], format='%(asctime)s - %(levelname)s - %(message)s')\n",
        "\n",
        "    logging.info(\"This is a log message that will be written to the rotating file.\")\n",
        "    # You would generate enough log messages to exceed 1MB to see rotation in action"
      ]
    },
    {
      "cell_type": "markdown",
      "metadata": {
        "id": "d0c0788c"
      },
      "source": [
        "19. **Write a program that handles both IndexError and KeyError using a try-except block.**"
      ]
    },
    {
      "cell_type": "code",
      "execution_count": 28,
      "metadata": {
        "colab": {
          "base_uri": "https://localhost:8080/"
        },
        "id": "56219795",
        "outputId": "d5738756-892a-449a-bb94-9d34fdb801df"
      },
      "outputs": [
        {
          "name": "stdout",
          "output_type": "stream",
          "text": [
            "The word 'Gupta' appears 2 times.\n"
          ]
        }
      ],
      "source": [
        "    file_name = 'my_text_file.txt'\n",
        "    word_to_find = 'Gupta'\n",
        "\n",
        "    # Create a sample file\n",
        "    with open(file_name, 'w') as f:\n",
        "        f.write(\"My Name is Vivek Gupta. Gupta surname very common in North India.\")\n",
        "\n",
        "    try:\n",
        "        with open(file_name, 'r') as f:\n",
        "            content = f.read().lower()\n",
        "            word_count = content.count(word_to_find.lower())\n",
        "            print(f\"The word '{word_to_find}' appears {word_count} times.\")\n",
        "    except FileNotFoundError:\n",
        "        print(f\"Error: The file '{file_name}' was not found.\")\n",
        "    except Exception as e:\n",
        "        print(f\"An error occurred: {e}\")"
      ]
    },
    {
      "cell_type": "markdown",
      "metadata": {
        "id": "791f0f3e"
      },
      "source": [
        "22. **How can you check if a file is empty before attempting to read its contents?**"
      ]
    },
    {
      "cell_type": "code",
      "execution_count": null,
      "metadata": {
        "colab": {
          "base_uri": "https://localhost:8080/"
        },
        "id": "f07911a7",
        "outputId": "c910c844-2753-47cd-9447-68b44d14d684"
      },
      "outputs": [
        {
          "name": "stdout",
          "output_type": "stream",
          "text": [
            "The file 'another_empty_file.txt' is empty.\n"
          ]
        }
      ],
      "source": [
        "    import os\n",
        "\n",
        "    file_name = 'another_empty_file.txt'\n",
        "\n",
        "    # Create a sample file (can be empty or not)\n",
        "    with open(file_name, 'w') as f:\n",
        "         pass # Leave it empty\n",
        "\n",
        "    if os.path.exists(file_name):\n",
        "        if os.path.getsize(file_name) == 0:\n",
        "            print(f\"The file '{file_name}' is empty.\")\n",
        "        else:\n",
        "            print(f\"The file '{file_name}' is not empty.\")\n",
        "    else:\n",
        "        print(f\"The file '{file_name}' does not exist.\")"
      ]
    },
    {
      "cell_type": "markdown",
      "metadata": {
        "id": "a930d555"
      },
      "source": [
        "23. **Write a Python program that writes to a log file when an error occurs during file handlin**"
      ]
    },
    {
      "cell_type": "code",
      "execution_count": 2,
      "metadata": {
        "colab": {
          "base_uri": "https://localhost:8080/"
        },
        "id": "746452a5",
        "outputId": "5223ec86-0a27-4579-e1ed-5f6108722cea"
      },
      "outputs": [
        {
          "name": "stderr",
          "output_type": "stream",
          "text": [
            "ERROR:root:Error: File not found during read attempt: 'non_existent_file_for_error.txt'\n",
            "Traceback (most recent call last):\n",
            "  File \"/tmp/ipython-input-991539794.py\", line 8, in <cell line: 0>\n",
            "    with open(file_name, 'r') as f:\n",
            "         ^^^^^^^^^^^^^^^^^^^^\n",
            "FileNotFoundError: [Errno 2] No such file or directory: 'non_existent_file_for_error.txt'\n"
          ]
        },
        {
          "name": "stdout",
          "output_type": "stream",
          "text": [
            "An error occurred while trying to read 'non_existent_file_for_error.txt' and was logged.\n"
          ]
        }
      ],
      "source": [
        "    import logging\n",
        "\n",
        "    logging.basicConfig(filename='file_errors.log', level=logging.ERROR, format='%(asctime)s - %(levelname)s - %(message)s')\n",
        "\n",
        "    file_name = 'non_existent_file_for_error.txt'\n",
        "\n",
        "    try:\n",
        "        with open(file_name, 'r') as f:\n",
        "            content = f.read()\n",
        "            print(content)\n",
        "    except FileNotFoundError:\n",
        "        logging.error(f\"Error: File not found during read attempt: '{file_name}'\", exc_info=True)\n",
        "        print(f\"An error occurred while trying to read '{file_name}' and was logged.\")\n",
        "    except IOError as e:\n",
        "        logging.error(f\"IOError during file handling: '{file_name}'\", exc_info=True)\n",
        "        print(f\"An I/O error occurred with '{file_name}' and was logged.\")"
      ]
    }
  ],
  "metadata": {
    "colab": {
      "provenance": []
    },
    "kernelspec": {
      "display_name": "base",
      "language": "python",
      "name": "python3"
    },
    "language_info": {
      "codemirror_mode": {
        "name": "ipython",
        "version": 3
      },
      "file_extension": ".py",
      "mimetype": "text/x-python",
      "name": "python",
      "nbconvert_exporter": "python",
      "pygments_lexer": "ipython3",
      "version": "3.13.5"
    }
  },
  "nbformat": 4,
  "nbformat_minor": 0
}
