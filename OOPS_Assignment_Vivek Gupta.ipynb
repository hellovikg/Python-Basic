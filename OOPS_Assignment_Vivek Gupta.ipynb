{
 "cells": [
  {
   "cell_type": "markdown",
   "id": "d267a7ec",
   "metadata": {},
   "source": [
    "1. What is Object-Oriented Programming (OOP)?\n",
    "\n",
    "- Object-oriented programming (OOP) is a computer programming model that organizes software design around data, or objects, rather than functions and logic. An object can be defined as a data field that has unique attributes and behavior.\n",
    "\n",
    "2. What is a class in OOP?\n",
    "\n",
    "- A class is a blueprint or a template for creating objects. It defines the properties (attributes) and behaviors (methods) that objects created from the class will have.\n",
    "\n",
    "3. What is an object in OOP?\n",
    "\n",
    "- An object is an instance of a class. When a class is defined, no memory is allocated until an object is created from it. An object has a state (the values of its attributes) and behavior (the methods it can perform).\n",
    "\n",
    "4. What is the difference between abstraction and encapsulation?\n",
    "\n",
    "-    Abstraction: Hiding complex reality while exposing only the necessary parts. It focuses on what an object does rather than how it does it.\n",
    "-    Encapsulation: Bundling data (attributes) and the methods that operate on the data into a single unit (a class). It also involves restricting direct access to some of an object's components, which is a key aspect of information hiding. Encapsulation is often used to achieve abstraction.\n",
    "\n",
    "5. What are dunder methods in Python?\n",
    "\n",
    "- Dunder methods, also known as magic methods, are special methods in Python that have double underscores at the beginning and end of their names (e.g., `__init__`, `__str__`, `__add__`). They allow you to define how objects of your class behave with built-in operations and functions.\n",
    "\n",
    "6. Explain the concept of inheritance in OOP.\n",
    "\n",
    "- Inheritance is a mechanism that allows a new class (child or derived class) to inherit properties and behaviors from an existing class (parent or base class). This promotes code reusability and establishes a relationship between classes.\n",
    "\n",
    "7. What is polymorphism in OOP?\n",
    "\n",
    "- Polymorphism means \"many forms\". In OOP, it refers to the ability of objects of different classes to respond to the same method call in their own way. This can be achieved through method overriding and method overloading (though true method overloading as in some other languages is not a core feature of Python in the same way).\n",
    "\n",
    "8. How is encapsulation achieved in Python?\n",
    "\n",
    "- Encapsulation in Python is achieved by bundling data and methods within a class. While Python doesn't have strict access modifiers like `private` or `public` in the same way as Java or C++, conventions and name mangling (using double underscores before an attribute name, e.g., `__private_attribute`) are used to indicate that certain attributes or methods are intended for internal use and should not be accessed directly from outside the class.\n",
    "\n",
    "9. What is a constructor in Python?\n",
    "\n",
    "- In Python, the constructor is a special method named `__init__`. It is automatically called when a new object of a class is created. Its primary purpose is to initialize the object's attributes.\n",
    "\n",
    "10. What are class and static methods in Python?\n",
    "\n",
    "-    Class methods (`@classmethod`): These methods are bound to the class and receive the class itself as the first argument, conventionally named `cls`. They can access and modify class-level attributes.\n",
    "-    Static methods (`@staticmethod`): These methods are not bound to the class or the instance. They don't receive a reference to the class or the instance as their first argument. They behave like regular functions but are defined within a class because they are logically related to the class.\n",
    "\n",
    "11. What is method overloading in Python?\n",
    "\n",
    "- Python does not support method overloading in the traditional sense (defining multiple methods with the same name but different parameters within the same class). However, you can achieve similar behavior using default arguments, variable-length arguments (`- args`, `kwargs`), or by checking the type of arguments within a single method.\n",
    "\n",
    "12. What is method overriding in OOP?\n",
    "\n",
    "- Method overriding occurs when a child class provides its own implementation of a method that is already defined in its parent class. This allows the child class to provide a specific behavior for that method while still inheriting from the parent.\n",
    "\n",
    "13. What is a property decorator in Python?\n",
    "\n",
    "- The `@property` decorator is a built-in Python decorator that provides a way to use methods as if they were attributes. It allows you to define getter, setter, and deleter methods for an attribute, providing more control over how attributes are accessed and modified.\n",
    "\n",
    "14. Why is polymorphism important in OOP?\n",
    "\n",
    "- Polymorphism is important because it allows for more flexible and extensible code. It enables you to write code that can work with objects of different types in a uniform way, reducing the need for conditional statements and making the code easier to maintain and extend.\n",
    "\n",
    "15. What is an abstract class in Python?\n",
    "\n",
    "- An abstract class is a class that cannot be instantiated directly. It is intended to be a blueprint for other classes and often contains one or more abstract methods (methods declared but not implemented in the abstract class). In Python, you can create abstract classes using the `abc` module (`ABCMeta` and `@abstractmethod`).\n",
    "\n",
    "16. What are the advantages of OOP?\n",
    "\n",
    "-    Modularity: Objects are self-contained units, making code easier to manage and debug.\n",
    "-    Reusability: Inheritance allows code to be reused, reducing redundancy.\n",
    "-    Flexibility: Polymorphism allows for more flexible and adaptable code.\n",
    "-    Maintainability: Encapsulation and abstraction make code easier to understand and modify.\n",
    "-    Scalability: OOP principles can help manage complexity in large projects.\n",
    "\n",
    "17. What is the difference between a class variable and an instance variable?\n",
    "\n",
    "-    Class variable: A variable that is shared among all instances (objects) of a class. It is defined outside of any methods in the class.\n",
    "-    Instance variable: A variable that is unique to each instance (object) of a class. It is typically defined within the `__init__` method using `self.variable_name`.\n",
    "\n",
    "18. What is multiple inheritance in Python?\n",
    "\n",
    "- Multiple inheritance is a feature in Python where a class can inherit from more than one parent class. This allows a class to combine the attributes and behaviors of multiple base classes.\n",
    "\n",
    "19. Explain the purpose of `__str__` and `__repr__` methods in Python.\n",
    "\n",
    "-    `__str__`: This method is called by the `str()` built-in function and by the `print()` function to compute the \"informal\" string representation of an object. It's intended to be readable for the end-user.\n",
    "-    `__repr__`: This method is called by the `repr()` built-in function to compute the \"official\" string representation of an object. It's intended to be unambiguous and should ideally be a string that could be used to recreate the object.\n",
    "\n",
    "20. What is the significance of the `super()` function in Python?\n",
    "\n",
    "- The `super()` function is used to call methods of the parent class in a child class. It is particularly useful in the `__init__` method of a child class to call the parent class's constructor and initialize the parent's attributes. It's also essential in multiple inheritance to correctly resolve the method resolution order (MRO).\n",
    "\n",
    "21. What is the significance of the `__del__` method in Python?\n",
    "\n",
    "- The `__del__` method, also known as the destructor, is called when an object is about to be garbage collected (when its reference count drops to zero). It's typically used for cleanup operations, such as closing files or releasing resources. However, relying solely on `__del__` for cleanup can be unpredictable due to the nature of garbage collection.\n",
    "\n",
    "22. What is the difference between `@staticmethod` and `@classmethod` in Python?\n",
    "\n",
    "-    `@staticmethod`: Doesn't receive an implicit first argument (neither instance `self` nor class `cls`). It behaves like a regular function but is logically grouped within the class. It cannot access or modify instance or class state.\n",
    "-    `@classmethod`: Receives the class itself (`cls`) as the first argument. It is bound to the class and can access or modify class state (class variables). It's often used for alternative constructors or methods that operate on the class rather than a specific instance.\n",
    "\n",
    "23. How does polymorphism work in Python with inheritance?\n",
    "\n",
    "- Polymorphism with inheritance in Python is primarily achieved through method overriding. When a child class overrides a method from its parent, you can have a reference to an object of the child class but treat it as an object of the parent class. When the overridden method is called through the parent reference, the child class's implementation is executed.\n",
    "\n",
    "24. What is method chaining in Python OOP?\n",
    "\n",
    "- Method chaining is a programming technique where multiple method calls are made in a single expression. This is possible when each method in the chain returns an object, allowing the next method to be called on the returned object. In the context of OOP, this often involves methods that modify the object's state and then return `self`.\n",
    "\n",
    "25. What is the purpose of the `__call__` method in Python?\n",
    "\n",
    "- The `__call__` method allows an instance of a class to be called like a function. If a class implements the `__call__` method, you can create an object of that class and then use parentheses `()` after the object name to execute the code within the `__call__` method. This can be useful for creating objects that represent a function or a callable entity."
   ]
  },
  {
   "cell_type": "code",
   "execution_count": 1,
   "id": "f71395a6",
   "metadata": {},
   "outputs": [
    {
     "name": "stdout",
     "output_type": "stream",
     "text": [
      "Bark!\n"
     ]
    }
   ],
   "source": [
    "#1 . Create a parent class Animal with a method speak() that prints a generic message. Create a child class Dog that overrides the speak() method to print \"Bark!\".\n",
    "\n",
    "class Animal:\n",
    "    def speak(self):\n",
    "        print(\"Animal speaks\")\n",
    "\n",
    "class Dog(Animal):\n",
    "    def speak(self):\n",
    "        print(\"Bark!\")\n",
    "\n",
    "# Create an instance of the Dog class\n",
    "my_dog = Dog()\n",
    "\n",
    "# Call the speak method on the Dog instance\n",
    "my_dog.speak()"
   ]
  },
  {
   "cell_type": "code",
   "execution_count": 2,
   "id": "a7351314",
   "metadata": {},
   "outputs": [
    {
     "name": "stdout",
     "output_type": "stream",
     "text": [
      "Area of Circle: 78.53981633974483\n",
      "Area of Rectangle: 24\n"
     ]
    }
   ],
   "source": [
    "# 2. Write a program to create an abstract class Shape with a method area(). Derive classes Circle and Rectangle from it and implement the area() method in both.\n",
    "# \n",
    "\n",
    "import math\n",
    "\n",
    "from abc import ABC, abstractmethod\n",
    "\n",
    "class Shape(ABC):\n",
    "    @abstractmethod\n",
    "    def area(self):\n",
    "        pass\n",
    "\n",
    "class Circle(Shape):\n",
    "    def __init__(self, radius):\n",
    "        self.radius = radius\n",
    "\n",
    "    def area(self):\n",
    "        return math.pi * self.radius**2\n",
    "\n",
    "class Rectangle(Shape):\n",
    "    def __init__(self, width, height):\n",
    "        self.width = width\n",
    "        self.height = height\n",
    "\n",
    "    def area(self):\n",
    "        return self.width * self.height\n",
    "\n",
    "\n",
    "circle = Circle(5)\n",
    "rectangle = Rectangle(4, 6)\n",
    "\n",
    "print(f\"Area of Circle: {circle.area()}\")\n",
    "print(f\"Area of Rectangle: {rectangle.area()}\")"
   ]
  },
  {
   "cell_type": "code",
   "execution_count": 8,
   "id": "c28e5309",
   "metadata": {},
   "outputs": [
    {
     "name": "stdout",
     "output_type": "stream",
     "text": [
      "Vehicle: Tesla Model 3\n",
      "Doors: 4\n",
      "Battery Range: 358 miles\n"
     ]
    }
   ],
   "source": [
    "# 3. Implement a multi-level inheritance scenario where a class Vehicle has an attribute type. Derive a class Car and further derive a class ElectricCar that adds a battery attribute.\n",
    "\n",
    "class Vehicle:\n",
    "    def __init__(self, make, model):\n",
    "        self.make = make\n",
    "        self.model = model\n",
    "\n",
    "    def display_info(self):\n",
    "        print(f\"Vehicle: {self.make} {self.model}\")\n",
    "\n",
    "class Car(Vehicle):\n",
    "    def __init__(self, make, model, doors):\n",
    "        super().__init__(make, model)\n",
    "        self.doors = doors\n",
    "\n",
    "    def display_info(self):\n",
    "        super().display_info()\n",
    "        print(f\"Doors: {self.doors}\")\n",
    "\n",
    "class ElectricCar(Car):\n",
    "    def __init__(self, make, model, doors, battery_range):\n",
    "        super().__init__(make, model, doors)\n",
    "        self.battery_range = battery_range\n",
    "\n",
    "    def display_info(self):\n",
    "        super().display_info()\n",
    "        print(f\"Battery Range: {self.battery_range} miles\")\n",
    "\n",
    "# Create an instance of the ElectricCar class\n",
    "my_electric_car = ElectricCar(\"Tesla\", \"Model 3\", 4, 358)\n",
    "\n",
    "# Call the display_info method\n",
    "my_electric_car.display_info()"
   ]
  },
  {
   "cell_type": "code",
   "execution_count": 11,
   "id": "fe49836e",
   "metadata": {},
   "outputs": [
    {
     "name": "stdout",
     "output_type": "stream",
     "text": [
      "Demonstrating Polymorphism:\n",
      "Sparrows fly high.\n",
      "Penguins cannot fly, but they can swim.\n"
     ]
    }
   ],
   "source": [
    "# 4. Demonstrate polymorphism by creating a base class Bird with a method fly(). Create two derived classes Sparrow and Penguin that override the fly() method. \n",
    "\n",
    "class Bird:\n",
    "    def fly(self):\n",
    "        print(\"Most birds can fly.\")\n",
    "\n",
    "class Sparrow(Bird):\n",
    "    def fly(self):\n",
    "        print(\"Sparrows fly high.\")\n",
    "\n",
    "class Penguin(Bird):\n",
    "    def fly(self):\n",
    "        print(\"Penguins cannot fly, but they can swim.\")\n",
    "\n",
    "# Create instances of Sparrow and Penguin\n",
    "sparrow = Sparrow()\n",
    "penguin = Penguin()\n",
    "\n",
    "# Create a list of bird objects\n",
    "birds = [sparrow, penguin]\n",
    "\n",
    "# Iterate through the list and call the fly() method on each object\n",
    "print(\"Demonstrating Polymorphism:\")\n",
    "for bird in birds:\n",
    "    bird.fly()"
   ]
  },
  {
   "cell_type": "code",
   "execution_count": 18,
   "id": "015d9dfc",
   "metadata": {},
   "outputs": [
    {
     "name": "stdout",
     "output_type": "stream",
     "text": [
      "Demonstrating encapsulation:\n",
      "Balance after deposit $ 1100\n",
      "Balance after withdraw $ 600\n"
     ]
    }
   ],
   "source": [
    "# 5. Write a program to demonstrate encapsulation by creating a class BankAccount with private attributes balance and methods to deposit, withdraw, and check balance.\n",
    "\n",
    "\n",
    "\n",
    "class BankAccount:\n",
    "  def __init__(self,balance):\n",
    "    self.__balance = balance\n",
    "\n",
    "  def deposit(self,amount):\n",
    "    if amount >0:\n",
    "      self.__balance += amount\n",
    "    else:\n",
    "      print(\"Invalid deposit amount\")\n",
    "\n",
    "  def withdraw(self,amount):\n",
    "    if amount <= self.__balance:\n",
    "      self.__balance -= amount\n",
    "    else:\n",
    "      print(\"Insufficient balance\")\n",
    "\n",
    "  def get_balance(self):\n",
    "    return self.__balance\n",
    "\n",
    "\n",
    "# Use\n",
    "\n",
    "print(\"Demonstrating encapsulation:\")\n",
    "Vivek_acc = BankAccount(1000)\n",
    "Vivek_acc.deposit(100)\n",
    "print(f\"Balance after deposit $\",Vivek_acc.get_balance())\n",
    "Vivek_acc.withdraw(500)\n",
    "print(f\"Balance after withdraw $\",Vivek_acc.get_balance())"
   ]
  },
  {
   "cell_type": "code",
   "execution_count": 13,
   "id": "39adb19b",
   "metadata": {},
   "outputs": [
    {
     "name": "stdout",
     "output_type": "stream",
     "text": [
      "Demonstrating Runtime Polymorphism:\n",
      "Guitar is strumming.\n",
      "Piano is playing melodies.\n"
     ]
    }
   ],
   "source": [
    "# 6. Demonstrate runtime polymorphism using a method play() in a base class Instrument. Derive classes Guitar and Piano that implement their own version of play().\n",
    "\n",
    "class Instrument:\n",
    "    def play(self):\n",
    "        print(\"Instrument is playing.\")\n",
    "\n",
    "class Guitar(Instrument):\n",
    "    def play(self):\n",
    "        print(\"Guitar is strumming.\")\n",
    "\n",
    "class Piano(Instrument):\n",
    "    def play(self):\n",
    "        print(\"Piano is playing melodies.\")\n",
    "\n",
    "# Create instances of Guitar and Piano\n",
    "guitar = Guitar()\n",
    "piano = Piano()\n",
    "\n",
    "# Create a list of instrument objects\n",
    "instruments = [guitar, piano]\n",
    "\n",
    "# Iterate through the list and call the play() method on each object\n",
    "print(\"Demonstrating Runtime Polymorphism:\")\n",
    "for instrument in instruments:\n",
    "    instrument.play()"
   ]
  },
  {
   "cell_type": "code",
   "execution_count": 14,
   "id": "b7e3b570",
   "metadata": {},
   "outputs": [
    {
     "name": "stdout",
     "output_type": "stream",
     "text": [
      "Using class method to add: 10 + 5\n",
      "Sum: 15\n",
      "Using static method to subtract: 10 - 5\n",
      "Difference: 5\n",
      "Using class method to add: 20 + 8\n",
      "Sum (via instance): 28\n",
      "Using static method to subtract: 20 - 8\n",
      "Difference (via instance): 12\n"
     ]
    }
   ],
   "source": [
    "# 7. Create a class MathOperations with a class method add_numbers() to add two numbers and a static method subtract_numbers() to subtract two numbers.\n",
    "\n",
    "class MathOperations:\n",
    "    @classmethod\n",
    "    def add_numbers(cls, x, y):\n",
    "        \"\"\"Class method to add two numbers.\"\"\"\n",
    "        print(f\"Using class method to add: {x} + {y}\")\n",
    "        return x + y\n",
    "\n",
    "    @staticmethod\n",
    "    def subtract_numbers(x, y):\n",
    "        \"\"\"Static method to subtract two numbers.\"\"\"\n",
    "        print(f\"Using static method to subtract: {x} - {y}\")\n",
    "        return x - y\n",
    "\n",
    "# Call the class method using the class name\n",
    "sum_result = MathOperations.add_numbers(10, 5)\n",
    "print(f\"Sum: {sum_result}\")\n",
    "\n",
    "# Call the static method using the class name\n",
    "difference_result = MathOperations.subtract_numbers(10, 5)\n",
    "print(f\"Difference: {difference_result}\")\n",
    "\n",
    "# You can also call class and static methods using an instance (though less common for static methods)\n",
    "math_instance = MathOperations()\n",
    "sum_result_instance = math_instance.add_numbers(20, 8)\n",
    "print(f\"Sum (via instance): {sum_result_instance}\")\n",
    "\n",
    "difference_result_instance = math_instance.subtract_numbers(20, 8)\n",
    "print(f\"Difference (via instance): {difference_result_instance}\")"
   ]
  },
  {
   "cell_type": "code",
   "execution_count": 20,
   "id": "35fba8a8",
   "metadata": {},
   "outputs": [
    {
     "name": "stdout",
     "output_type": "stream",
     "text": [
      "Total number of persons created: 3\n",
      "Total number of persons created after adding Vivek: 4\n"
     ]
    }
   ],
   "source": [
    "# 8. Implement a class Person with a class method to count the total number of persons created.\n",
    "\n",
    "class Person:\n",
    "    # Class variable to keep track of the number of instances\n",
    "    number_of_people = 0\n",
    "\n",
    "    def __init__(self, name):\n",
    "        self.name = name\n",
    "        # Increment the class variable when a new instance is created\n",
    "        Person.number_of_people += 1\n",
    "\n",
    "    @classmethod\n",
    "    def get_number_of_people(cls):\n",
    "        \"\"\"Class method to return the total number of Person instances created.\"\"\"\n",
    "        return cls.number_of_people\n",
    "\n",
    "# Create instances of the Person class\n",
    "person1 = Person(\"Akshay\")\n",
    "person2 = Person(\"Tiger\")\n",
    "person3 = Person(\"Amitabh\")\n",
    "\n",
    "# Call the class method to get the total number of people\n",
    "total_people = Person.get_number_of_people()\n",
    "print(f\"Total number of persons created: {total_people}\")\n",
    "\n",
    "# Create another instance\n",
    "person4 = Person(\"Vivek\")\n",
    "\n",
    "# Call the class method again to see the updated count\n",
    "updated_total_people = Person.get_number_of_people()\n",
    "print(f\"Total number of persons created after adding Vivek: {updated_total_people}\")"
   ]
  },
  {
   "cell_type": "code",
   "execution_count": 21,
   "id": "cb19ba85",
   "metadata": {},
   "outputs": [
    {
     "name": "stdout",
     "output_type": "stream",
     "text": [
      "3/4\n"
     ]
    }
   ],
   "source": [
    "# 9. Write a class Fraction with attributes numerator and denominator. Override the str method to display the fraction as \"numerator/denominator\".\n",
    "\n",
    "class Fraction:\n",
    "    def __init__(self, numerator, denominator):\n",
    "        self.numerator = numerator\n",
    "        self.denominator = denominator\n",
    "\n",
    "    def __str__(self):\n",
    "        \"\"\"Override the __str__ method to display the fraction.\"\"\"\n",
    "        return f\"{self.numerator}/{self.denominator}\"\n",
    "\n",
    "# Create an instance of the Fraction class\n",
    "my_fraction = Fraction(3, 4)\n",
    "\n",
    "# Print the object, which will call the __str__ method\n",
    "print(my_fraction)"
   ]
  },
  {
   "cell_type": "code",
   "execution_count": 22,
   "id": "3f9742a5",
   "metadata": {},
   "outputs": [
    {
     "name": "stdout",
     "output_type": "stream",
     "text": [
      "Vector 1: Vector(2, 3)\n",
      "Vector 2: Vector(5, 7)\n",
      "Sum Vector: Vector(7, 10)\n",
      "\n",
      "Attempting invalid addition: Can only add a Vector object to another Vector object\n"
     ]
    }
   ],
   "source": [
    "# 10. Demonstrate operator overloading by creating a class Vector and overriding the add method to add two vectors.\n",
    "\n",
    "class Vector:\n",
    "    def __init__(self, x, y):\n",
    "        self.x = x\n",
    "        self.y = y\n",
    "\n",
    "    def __str__(self):\n",
    "        \"\"\"String representation for easy printing.\"\"\"\n",
    "        return f\"Vector({self.x}, {self.y})\"\n",
    "\n",
    "    def __add__(self, other):\n",
    "        \"\"\"Override the + operator to add two Vector objects.\"\"\"\n",
    "        if isinstance(other, Vector):\n",
    "            return Vector(self.x + other.x, self.y + other.y)\n",
    "        else:\n",
    "            raise TypeError(\"Can only add a Vector object to another Vector object\")\n",
    "\n",
    "# Create two Vector instances\n",
    "vector1 = Vector(2, 3)\n",
    "vector2 = Vector(5, 7)\n",
    "\n",
    "# Use the + operator to add the two vectors\n",
    "# This calls the __add__ method internally\n",
    "sum_vector = vector1 + vector2\n",
    "\n",
    "# Print the original vectors and the resulting sum vector\n",
    "print(f\"Vector 1: {vector1}\")\n",
    "print(f\"Vector 2: {vector2}\")\n",
    "print(f\"Sum Vector: {sum_vector}\")\n",
    "\n",
    "# Demonstrate adding with a non-Vector object (will raise TypeError)\n",
    "try:\n",
    "    invalid_sum = vector1 + 10\n",
    "except TypeError as e:\n",
    "    print(f\"\\nAttempting invalid addition: {e}\")"
   ]
  },
  {
   "cell_type": "code",
   "execution_count": 24,
   "id": "396be4ec",
   "metadata": {},
   "outputs": [
    {
     "name": "stdout",
     "output_type": "stream",
     "text": [
      "Hello, my name is Vivek and I am 42 years old.\n"
     ]
    }
   ],
   "source": [
    "# 11. Create a class Person with attributes name and age. Add a method greet() that prints \"Hello, my name is {name} and I am {age} years old.\"\n",
    "\n",
    "class Person:\n",
    "    def __init__(self, name, age):\n",
    "        self.name = name\n",
    "        self.age = age\n",
    "\n",
    "    def greet(self):\n",
    "        \"\"\"Prints a greeting message with the person's name and age.\"\"\"\n",
    "        print(f\"Hello, my name is {self.name} and I am {self.age} years old.\")\n",
    "\n",
    "# Create an instance of the Person class\n",
    "person1 = Person(\"Vivek\", 42)\n",
    "\n",
    "# Call the greet method\n",
    "person1.greet()"
   ]
  },
  {
   "cell_type": "code",
   "execution_count": 28,
   "id": "3714c11e",
   "metadata": {},
   "outputs": [
    {
     "name": "stdout",
     "output_type": "stream",
     "text": [
      "The average grade for Vivek is: 99.25\n",
      "The average grade for Rahul is: 96.0\n"
     ]
    }
   ],
   "source": [
    "# 12. Implement a class Student with attributes name and grades. Create a method average_grade() to compute the average of the grades.\n",
    "\n",
    "class Student:\n",
    "    def __init__(self, name, grades):\n",
    "        self.name = name\n",
    "        self.grades = grades\n",
    "\n",
    "    def average_grade(self):\n",
    "        \"\"\"Computes and returns the average of the student's grades.\"\"\"\n",
    "        if not self.grades:\n",
    "            return 0  # Return 0 if there are no grades\n",
    "        return sum(self.grades) / len(self.grades)\n",
    "\n",
    "# Create an instance of the Student class\n",
    "student1 = Student(\"Vivek\", [99, 100, 99, 99])\n",
    "\n",
    "# Call the average_grade method and print the result\n",
    "average = student1.average_grade()\n",
    "print(f\"The average grade for {student1.name} is: {average}\")\n",
    "\n",
    "# Demonstrate with a student with no grades\n",
    "student2 = Student(\"Rahul\", [99, 98, 95, 92])\n",
    "average2 = student2.average_grade()\n",
    "print(f\"The average grade for {student2.name} is: {average2}\")"
   ]
  },
  {
   "cell_type": "code",
   "execution_count": 29,
   "id": "ba4dcce0",
   "metadata": {},
   "outputs": [
    {
     "name": "stdout",
     "output_type": "stream",
     "text": [
      "Rectangle dimensions set to: Width = 10, Height = 5\n",
      "The area of the rectangle is: 50\n",
      "Dimensions must be non-negative.\n"
     ]
    }
   ],
   "source": [
    "# 13. Create a class Rectangle with methods set_dimensions() to set the dimensions and area() to calculate the area.\n",
    "\n",
    "class Rectangle:\n",
    "    def __init__(self):\n",
    "        self.width = 0\n",
    "        self.height = 0\n",
    "\n",
    "    def set_dimensions(self, width, height):\n",
    "        \"\"\"Sets the width and height of the rectangle.\"\"\"\n",
    "        if width >= 0 and height >= 0:\n",
    "            self.width = width\n",
    "            self.height = height\n",
    "            print(f\"Rectangle dimensions set to: Width = {self.width}, Height = {self.height}\")\n",
    "        else:\n",
    "            print(\"Dimensions must be non-negative.\")\n",
    "\n",
    "    def area(self):\n",
    "        \"\"\"Calculates and returns the area of the rectangle.\"\"\"\n",
    "        return self.width * self.height\n",
    "\n",
    "# Create an instance of the Rectangle class\n",
    "rectangle = Rectangle()\n",
    "\n",
    "# Set the dimensions using the set_dimensions method\n",
    "rectangle.set_dimensions(10, 5)\n",
    "\n",
    "# Calculate and print the area\n",
    "rectangle_area = rectangle.area()\n",
    "print(f\"The area of the rectangle is: {rectangle_area}\")\n",
    "\n",
    "# Demonstrate setting invalid dimensions\n",
    "rectangle.set_dimensions(-2, 7)"
   ]
  },
  {
   "cell_type": "code",
   "execution_count": 30,
   "id": "2165143b",
   "metadata": {},
   "outputs": [
    {
     "name": "stdout",
     "output_type": "stream",
     "text": [
      "Vivek's salary: $800\n",
      "Sanjeev's salary: $2000\n"
     ]
    }
   ],
   "source": [
    "# 14. Create a class Employee with a method calculate_salary() that computes the salary based on hours worked and hourly rate. Create a derived class Manager that adds a bonus to the salary.\n",
    "\n",
    "class Employee:\n",
    "    def __init__(self, name, hours_worked, hourly_rate):\n",
    "        self.name = name\n",
    "        self.hours_worked = hours_worked\n",
    "        self.hourly_rate = hourly_rate\n",
    "\n",
    "    def calculate_salary(self):\n",
    "        \"\"\"Calculates the basic salary based on hours worked and hourly rate.\"\"\"\n",
    "        return self.hours_worked * self.hourly_rate\n",
    "\n",
    "class Manager(Employee):\n",
    "    def __init__(self, name, hours_worked, hourly_rate, bonus):\n",
    "        super().__init__(name, hours_worked, hourly_rate)\n",
    "        self.bonus = bonus\n",
    "\n",
    "    def calculate_salary(self):\n",
    "        \"\"\"Overrides the calculate_salary method to include a bonus.\"\"\"\n",
    "        basic_salary = super().calculate_salary()\n",
    "        return basic_salary + self.bonus\n",
    "\n",
    "# Create instances of Employee and Manager\n",
    "employee1 = Employee(\"Vivek\", 40, 20)\n",
    "manager1 = Manager(\"Sanjeev\", 40, 25, 1000)\n",
    "\n",
    "# Calculate and print the salaries\n",
    "print(f\"{employee1.name}'s salary: ${employee1.calculate_salary()}\")\n",
    "print(f\"{manager1.name}'s salary: ${manager1.calculate_salary()}\")"
   ]
  },
  {
   "cell_type": "code",
   "execution_count": 31,
   "id": "bcfee7c1",
   "metadata": {},
   "outputs": [
    {
     "name": "stdout",
     "output_type": "stream",
     "text": [
      "The total price for Laptop (2 items) is: $2400\n",
      "The total price for Mouse (5 items) is: $125\n"
     ]
    }
   ],
   "source": [
    "# 15. Create a class Product with attributes name, price, and quantity. Implement a method total_price() that calculates the total price of the product.\n",
    "\n",
    "class Product:\n",
    "    def __init__(self, name, price, quantity):\n",
    "        self.name = name\n",
    "        self.price = price\n",
    "        self.quantity = quantity\n",
    "\n",
    "    def total_price(self):\n",
    "        \"\"\"Calculates and returns the total price of the product.\"\"\"\n",
    "        return self.price * self.quantity\n",
    "\n",
    "# Create an instance of the Product class\n",
    "product1 = Product(\"Laptop\", 1200, 2)\n",
    "\n",
    "# Call the total_price method and print the result\n",
    "total = product1.total_price()\n",
    "print(f\"The total price for {product1.name} ({product1.quantity} items) is: ${total}\")\n",
    "\n",
    "# Demonstrate with a different product\n",
    "product2 = Product(\"Mouse\", 25, 5)\n",
    "total2 = product2.total_price()\n",
    "print(f\"The total price for {product2.name} ({product2.quantity} items) is: ${total2}\")"
   ]
  },
  {
   "cell_type": "code",
   "execution_count": 32,
   "id": "49ce8447",
   "metadata": {},
   "outputs": [
    {
     "name": "stdout",
     "output_type": "stream",
     "text": [
      "Demonstrating abstract methods:\n",
      "Moo!\n",
      "Baa!\n",
      "\n",
      "Attempting to instantiate abstract class: Can't instantiate abstract class Animal without an implementation for abstract method 'sound'\n"
     ]
    }
   ],
   "source": [
    "# 16. Create a class Animal with an abstract method sound(). Create two derived classes Cow and Sheep that implement the sound() method.\n",
    "\n",
    "from abc import ABC, abstractmethod\n",
    "\n",
    "class Animal(ABC):\n",
    "    @abstractmethod\n",
    "    def sound(self):\n",
    "        pass\n",
    "\n",
    "class Cow(Animal):\n",
    "    def sound(self):\n",
    "        print(\"Moo!\")\n",
    "\n",
    "class Sheep(Animal):\n",
    "    def sound(self):\n",
    "        print(\"Baa!\")\n",
    "\n",
    "# Create instances of Cow and Sheep\n",
    "cow = Cow()\n",
    "sheep = Sheep()\n",
    "\n",
    "# Call the sound method on each instance\n",
    "print(\"Demonstrating abstract methods:\")\n",
    "cow.sound()\n",
    "sheep.sound()\n",
    "\n",
    "# Attempting to instantiate the abstract class directly will raise a TypeError\n",
    "try:\n",
    "    generic_animal = Animal()\n",
    "except TypeError as e:\n",
    "    print(f\"\\nAttempting to instantiate abstract class: {e}\")"
   ]
  },
  {
   "cell_type": "code",
   "execution_count": 33,
   "id": "211172de",
   "metadata": {},
   "outputs": [
    {
     "name": "stdout",
     "output_type": "stream",
     "text": [
      "Title: The Hitchhiker's Guide to the Galaxy, Author: Douglas Adams, Year Published: 1979\n"
     ]
    }
   ],
   "source": [
    "# 17. Create a class Book with attributes title, author, and year_published. Add a method get_book_info() that returns a formatted string with the book's details.\n",
    "\n",
    "class Book:\n",
    "    def __init__(self, title, author, year_published):\n",
    "        self.title = title\n",
    "        self.author = author\n",
    "        self.year_published = year_published\n",
    "\n",
    "    def get_book_info(self):\n",
    "        \"\"\"Returns a formatted string with the book's details.\"\"\"\n",
    "        return f\"Title: {self.title}, Author: {self.author}, Year Published: {self.year_published}\"\n",
    "\n",
    "# Create an instance of the Book class\n",
    "book1 = Book(\"The Hitchhiker's Guide to the Galaxy\", \"Douglas Adams\", 1979)\n",
    "\n",
    "# Call the get_book_info method and print the result\n",
    "book_info = book1.get_book_info()\n",
    "print(book_info)"
   ]
  },
  {
   "cell_type": "code",
   "execution_count": 34,
   "id": "980df5ee",
   "metadata": {},
   "outputs": [
    {
     "name": "stdout",
     "output_type": "stream",
     "text": [
      "House Information:\n",
      "Address: 123 Casa Lily, Price: $300000\n",
      "\n",
      "Mansion Information:\n",
      "Address: 456 Casa Tulip, Price: $1500000\n",
      "Number of Rooms: 20\n"
     ]
    }
   ],
   "source": [
    "# 18. Create a class House with attributes address and price. Create a derived class Mansion that adds an attribute number_of_rooms.\n",
    "\n",
    "class House:\n",
    "    def __init__(self, address, price):\n",
    "        self.address = address\n",
    "        self.price = price\n",
    "\n",
    "    def display_info(self):\n",
    "        \"\"\"Displays basic information about the house.\"\"\"\n",
    "        print(f\"Address: {self.address}, Price: ${self.price}\")\n",
    "\n",
    "class Mansion(House):\n",
    "    def __init__(self, address, price, number_of_rooms):\n",
    "        super().__init__(address, price)  # Call the parent class constructor\n",
    "        self.number_of_rooms = number_of_rooms\n",
    "\n",
    "    def display_info(self):\n",
    "        \"\"\"Overrides display_info to include the number of rooms.\"\"\"\n",
    "        super().display_info()  # Call the parent's display_info\n",
    "        print(f\"Number of Rooms: {self.number_of_rooms}\")\n",
    "\n",
    "# Create instances of House and Mansion\n",
    "house1 = House(\"123 Casa Lily\", 300000)\n",
    "mansion1 = Mansion(\"456 Casa Tulip\", 1500000, 20)\n",
    "\n",
    "# Display information for each\n",
    "print(\"House Information:\")\n",
    "house1.display_info()\n",
    "\n",
    "print(\"\\nMansion Information:\")\n",
    "mansion1.display_info()"
   ]
  }
 ],
 "metadata": {
  "kernelspec": {
   "display_name": "base",
   "language": "python",
   "name": "python3"
  },
  "language_info": {
   "codemirror_mode": {
    "name": "ipython",
    "version": 3
   },
   "file_extension": ".py",
   "mimetype": "text/x-python",
   "name": "python",
   "nbconvert_exporter": "python",
   "pygments_lexer": "ipython3",
   "version": "3.13.5"
  }
 },
 "nbformat": 4,
 "nbformat_minor": 5
}
