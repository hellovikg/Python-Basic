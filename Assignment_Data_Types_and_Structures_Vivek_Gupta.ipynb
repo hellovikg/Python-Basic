{
 "cells": [
  {
   "cell_type": "code",
   "execution_count": 23,
   "id": "8d594c99",
   "metadata": {},
   "outputs": [
    {
     "data": {
      "text/plain": [
       "'\\n\\nData Types and Structures Questions\\n\\n1. What are data structures, and why are they important?\\n- Data structures in Python are specialized formats or containers used to store and organize data efficiently. \\nThey provide various ways to store, access, and manipulate data according to specific needs, which play a pivotal role in computer science and programming.\\n\\n2. Explain the difference between mutable and immutable data types with examples.\\n- Mutable data types are those whose values or internal state can be changed after they are created. \\n\\n- Immutable data types, conversely, are those whose values or internal state cannot be changed after they are created. \\n\\n3. What are the main differences between lists and tuples in Python?\\n- List are mutable and consume more memory. Iteration over lists is time-consuming. Lists are better for performing operations, such as insertion and deletion.\\n- Tuples are immutable and consumes less memory. Iterations over tuple is faster. Tuples are more suitable for accessing elements efficiently.\\n\\n4. Describe how dictionaries store data.\\n- Dictionaries, in programming contexts like Python, store data as a collection of key-value pairs. Each key in a dictionary is unique and acts as an identifier for its associated value.\\n\\n5. Why might you use a set instead of a list in Python?\\n- You might use a set instead of a list when you need to store a collection of unique items and the order of items does not matter. Sets are efficient for checking membership and removing duplicate elements.\\n\\n6. What is a string in Python, and how is it different from a list?\\n- A string is an immutable sequence of characters. It is different from a list because lists are mutable and can hold elements of various data types, while strings are immutable and hold only characters.\\n\\n7. How do tuples ensure data integrity in Python?\\n- Tuples ensure data integrity because they are immutable. Once a tuple is created, its elements cannot be changed, preventing accidental modification of the data they hold.\\n\\n8. What is a hash table, and how does it relate to dictionaries in Python?\\n- A hash table is a data structure that implements an associative array, mapping keys to values. Python dictionaries are implemented using hash tables, which allows for efficient average-case time complexity for operations like insertion, deletion, and lookup.\\n\\n\\n\\n9. Can lists contain different data types in Python?\\n- Yes, lists in Python can contain elements of different data types within the same list.\\n\\n10. Explain why strings are immutable in Python.\\n- Strings are immutable in Python to allow for efficient sharing of string data and to make them suitable for use as dictionary keys and elements in sets (since keys and set elements must be immutable and hashable). When a string is \\'modified\\', a new string object is actually created.\\n\\n11. What advantages do dictionaries offer over lists for certain tasks?\\n- Dictionaries offer advantages over lists for tasks that require fast lookups of values based on a key, rather than an index. They are useful for representing structured data where each piece of data has a unique identifier.\\n\\n12. Describe a scenario where using a tuple would be preferable over a list.\\n- A scenario where using a tuple would be preferable over a list is when you have a collection of items that should not be changed.\\n\\n13. How do sets handle duplicate values in Python?\\n- Sets automatically handle duplicate values by storing only one instance of each unique element. When you add a duplicate element to a set, it is ignored.\\n\\n14. How does the \"in\" keyword work differently for lists and dictionaries?\\n- For lists, the \"in\" keyword checks if an element exists as a value within the list. For dictionaries, the \"in\" keyword checks if a key exists in the dictionary.\\n\\n15. Can you modify the elements of a tuple? Explain why or why not.\\n- No, you cannot modify the elements of a tuple. Tuples are immutable, which means their contents cannot be changed after creation.\\n\\n16. What is a nested dictionary, and give an example of its use case?\\n- A nested dictionary is a dictionary where the values are themselves dictionaries. A common use case is representing hierarchical data, such as a database of users where each user has their own set of attributes stored in another dictionary.\\n\\n17. Describe the time complexity of accessing elements in a dictionary.\\n- Accessing elements in a Python dictionary by key generally has an average time complexity of O(1), which is constant time. This efficiency stems from the fact that Python dictionaries are implemented as hash tables.\\n\\n18. In what situations are lists preferred over dictionaries?\\n- Lists are preferred over dictionaries when you need an ordered collection of items, when you need to access elements by their position (index), or when you have a collection of items that may contain duplicates.\\n\\n19. Why are dictionaries considered unordered, and how does that affect data retrieval?\\n- In Python versions before 3.7, dictionaries were considered unordered because the order of elements was not guaranteed. This meant you couldn\\'t rely on the order of items when retrieving data. Since Python 3.7, dictionaries maintain insertion order, making them effectively ordered.\\n\\n20. Explain the difference between a list and a dictionary in terms of data retrieval.\\n- Data retrieval in a list is done by index (positional access), while data retrieval in a dictionary is done by key (associative access).\\n\\n'"
      ]
     },
     "execution_count": 23,
     "metadata": {},
     "output_type": "execute_result"
    }
   ],
   "source": [
    "'''\n",
    "\n",
    "Data Types and Structures Questions\n",
    "\n",
    "1. What are data structures, and why are they important?\n",
    "- Data structures in Python are specialized formats or containers used to store and organize data efficiently. \n",
    "They provide various ways to store, access, and manipulate data according to specific needs, which play a pivotal role in computer science and programming.\n",
    "\n",
    "2. Explain the difference between mutable and immutable data types with examples.\n",
    "- Mutable data types are those whose values or internal state can be changed after they are created. \n",
    "\n",
    "- Immutable data types, conversely, are those whose values or internal state cannot be changed after they are created. \n",
    "\n",
    "3. What are the main differences between lists and tuples in Python?\n",
    "- List are mutable and consume more memory. Iteration over lists is time-consuming. Lists are better for performing operations, such as insertion and deletion.\n",
    "- Tuples are immutable and consumes less memory. Iterations over tuple is faster. Tuples are more suitable for accessing elements efficiently.\n",
    "\n",
    "4. Describe how dictionaries store data.\n",
    "- Dictionaries, in programming contexts like Python, store data as a collection of key-value pairs. Each key in a dictionary is unique and acts as an identifier for its associated value.\n",
    "\n",
    "5. Why might you use a set instead of a list in Python?\n",
    "- You might use a set instead of a list when you need to store a collection of unique items and the order of items does not matter. Sets are efficient for checking membership and removing duplicate elements.\n",
    "\n",
    "6. What is a string in Python, and how is it different from a list?\n",
    "- A string is an immutable sequence of characters. It is different from a list because lists are mutable and can hold elements of various data types, while strings are immutable and hold only characters.\n",
    "\n",
    "7. How do tuples ensure data integrity in Python?\n",
    "- Tuples ensure data integrity because they are immutable. Once a tuple is created, its elements cannot be changed, preventing accidental modification of the data they hold.\n",
    "\n",
    "8. What is a hash table, and how does it relate to dictionaries in Python?\n",
    "- A hash table is a data structure that implements an associative array, mapping keys to values. Python dictionaries are implemented using hash tables, which allows for efficient average-case time complexity for operations like insertion, deletion, and lookup.\n",
    "\n",
    "\n",
    "\n",
    "9. Can lists contain different data types in Python?\n",
    "- Yes, lists in Python can contain elements of different data types within the same list.\n",
    "\n",
    "10. Explain why strings are immutable in Python.\n",
    "- Strings are immutable in Python to allow for efficient sharing of string data and to make them suitable for use as dictionary keys and elements in sets (since keys and set elements must be immutable and hashable). When a string is 'modified', a new string object is actually created.\n",
    "\n",
    "11. What advantages do dictionaries offer over lists for certain tasks?\n",
    "- Dictionaries offer advantages over lists for tasks that require fast lookups of values based on a key, rather than an index. They are useful for representing structured data where each piece of data has a unique identifier.\n",
    "\n",
    "12. Describe a scenario where using a tuple would be preferable over a list.\n",
    "- A scenario where using a tuple would be preferable over a list is when you have a collection of items that should not be changed.\n",
    "\n",
    "13. How do sets handle duplicate values in Python?\n",
    "- Sets automatically handle duplicate values by storing only one instance of each unique element. When you add a duplicate element to a set, it is ignored.\n",
    "\n",
    "14. How does the \"in\" keyword work differently for lists and dictionaries?\n",
    "- For lists, the \"in\" keyword checks if an element exists as a value within the list. For dictionaries, the \"in\" keyword checks if a key exists in the dictionary.\n",
    "\n",
    "15. Can you modify the elements of a tuple? Explain why or why not.\n",
    "- No, you cannot modify the elements of a tuple. Tuples are immutable, which means their contents cannot be changed after creation.\n",
    "\n",
    "16. What is a nested dictionary, and give an example of its use case?\n",
    "- A nested dictionary is a dictionary where the values are themselves dictionaries. A common use case is representing hierarchical data, such as a database of users where each user has their own set of attributes stored in another dictionary.\n",
    "\n",
    "17. Describe the time complexity of accessing elements in a dictionary.\n",
    "- Accessing elements in a Python dictionary by key generally has an average time complexity of O(1), which is constant time. This efficiency stems from the fact that Python dictionaries are implemented as hash tables.\n",
    "\n",
    "18. In what situations are lists preferred over dictionaries?\n",
    "- Lists are preferred over dictionaries when you need an ordered collection of items, when you need to access elements by their position (index), or when you have a collection of items that may contain duplicates.\n",
    "\n",
    "19. Why are dictionaries considered unordered, and how does that affect data retrieval?\n",
    "- In Python versions before 3.7, dictionaries were considered unordered because the order of elements was not guaranteed. This meant you couldn't rely on the order of items when retrieving data. Since Python 3.7, dictionaries maintain insertion order, making them effectively ordered.\n",
    "\n",
    "20. Explain the difference between a list and a dictionary in terms of data retrieval.\n",
    "- Data retrieval in a list is done by index (positional access), while data retrieval in a dictionary is done by key (associative access).\n",
    "\n",
    "'''"
   ]
  },
  {
   "cell_type": "code",
   "execution_count": 24,
   "id": "6e7545e4",
   "metadata": {},
   "outputs": [
    {
     "name": "stdout",
     "output_type": "stream",
     "text": [
      "VIVEK GUPTA\n"
     ]
    }
   ],
   "source": [
    "# 1. Write a code to create a string with your name and print it\n",
    "name = \"VIVEK GUPTA\"  # Replace with your name\n",
    "print(name)"
   ]
  },
  {
   "cell_type": "code",
   "execution_count": 25,
   "id": "0b1649b2",
   "metadata": {},
   "outputs": [
    {
     "name": "stdout",
     "output_type": "stream",
     "text": [
      "The length of 'Hello World' is: 11\n"
     ]
    }
   ],
   "source": [
    "# 2. Write a code to find the length of the string \"Hello World\"\n",
    "string = \"Hello World\"\n",
    "string_length = len(string)\n",
    "print(f\"The length of '{string}' is: {string_length}\")"
   ]
  },
  {
   "cell_type": "code",
   "execution_count": 26,
   "id": "cd1d650e",
   "metadata": {},
   "outputs": [
    {
     "name": "stdout",
     "output_type": "stream",
     "text": [
      "The first 3 characters of 'Python Programming' are: Pyt\n"
     ]
    }
   ],
   "source": [
    "# 3. Write a code to slice the first 3 characters from the string \"Python Programming\"\n",
    "string = \"Python Programming\"\n",
    "sliced_string = string[:3]\n",
    "print(f\"The first 3 characters of '{string}' are: {sliced_string}\")"
   ]
  },
  {
   "cell_type": "code",
   "execution_count": 27,
   "id": "9cd37d5a",
   "metadata": {},
   "outputs": [
    {
     "name": "stdout",
     "output_type": "stream",
     "text": [
      "The uppercase version of 'hello' is: HELLO\n"
     ]
    }
   ],
   "source": [
    "# 4. Write a code to convert the string \"hello\" to uppercase\n",
    "string = \"hello\"\n",
    "uppercase_string = string.upper()\n",
    "print(f\"The uppercase version of '{string}' is: {uppercase_string}\")"
   ]
  },
  {
   "cell_type": "code",
   "execution_count": 28,
   "id": "fcbcc3c0",
   "metadata": {},
   "outputs": [
    {
     "name": "stdout",
     "output_type": "stream",
     "text": [
      "The string after replacement is: I like orange\n"
     ]
    }
   ],
   "source": [
    "# 5. Write a code to replace the word \"apple\" with \"orange\" in the string \"I like apple\"\n",
    "string = \"I like apple\"\n",
    "new_string = string.replace(\"apple\", \"orange\")\n",
    "print(f\"The string after replacement is: {new_string}\")"
   ]
  },
  {
   "cell_type": "code",
   "execution_count": 29,
   "id": "265c05a0",
   "metadata": {},
   "outputs": [
    {
     "name": "stdout",
     "output_type": "stream",
     "text": [
      "[1, 2, 3, 4, 5]\n"
     ]
    }
   ],
   "source": [
    "# 6. Write a code to create a list with numbers 1 to 5 and print it\n",
    "list = [1, 2, 3, 4, 5]\n",
    "print(list)"
   ]
  },
  {
   "cell_type": "code",
   "execution_count": 30,
   "id": "53402d48",
   "metadata": {},
   "outputs": [
    {
     "name": "stdout",
     "output_type": "stream",
     "text": [
      "[1, 2, 3, 4, 10]\n"
     ]
    }
   ],
   "source": [
    "# 7. Write a code to append the number 10 to the list [1, 2, 3, 4]\n",
    "my_list = [1, 2, 3, 4]\n",
    "my_list.append(10)\n",
    "print(my_list)"
   ]
  },
  {
   "cell_type": "code",
   "execution_count": 31,
   "id": "e8c3495d",
   "metadata": {},
   "outputs": [
    {
     "name": "stdout",
     "output_type": "stream",
     "text": [
      "[1, 2, 4, 5]\n"
     ]
    }
   ],
   "source": [
    "# 8. Write a code to remove the number 3 from the list [1, 2, 3, 4, 5]\n",
    "my_list = [1, 2, 3, 4, 5]\n",
    "my_list.remove(3)\n",
    "print(my_list)"
   ]
  },
  {
   "cell_type": "code",
   "execution_count": 32,
   "id": "327d9fb4",
   "metadata": {},
   "outputs": [
    {
     "name": "stdout",
     "output_type": "stream",
     "text": [
      "The second element of the list is: b\n"
     ]
    }
   ],
   "source": [
    "# 9. Write a code to access the second element in the list ['a', 'b', 'c', 'd']\n",
    "my_list = ['a', 'b', 'c', 'd']\n",
    "second_element = my_list[1]\n",
    "print(f\"The second element of the list is: {second_element}\")"
   ]
  },
  {
   "cell_type": "code",
   "execution_count": 33,
   "id": "45a60f46",
   "metadata": {},
   "outputs": [
    {
     "name": "stdout",
     "output_type": "stream",
     "text": [
      "[50, 40, 30, 20, 10]\n"
     ]
    }
   ],
   "source": [
    "# 10. Write a code to reverse the list [10, 20, 30, 40, 50].\n",
    "my_list = [10, 20, 30, 40, 50]\n",
    "\n",
    "my_list1 = my_list[::-1]\n",
    "print (my_list1)"
   ]
  },
  {
   "cell_type": "code",
   "execution_count": 34,
   "id": "1194a94d",
   "metadata": {},
   "outputs": [
    {
     "name": "stdout",
     "output_type": "stream",
     "text": [
      "(100, 200, 300)\n"
     ]
    }
   ],
   "source": [
    "# 11. Write a code to create a tuple with the elements 100, 200, 300 and print it.\n",
    "my_tuple = (100, 200, 300)\n",
    "print(my_tuple)\n",
    "\n"
   ]
  },
  {
   "cell_type": "code",
   "execution_count": 35,
   "id": "657559a4",
   "metadata": {},
   "outputs": [
    {
     "name": "stdout",
     "output_type": "stream",
     "text": [
      "The second-to-last element is: blue\n"
     ]
    }
   ],
   "source": [
    "# 12. Write a code to access the second-to-last element of the tuple ('red', 'green', 'blue', 'yellow').\n",
    "my_tuple = ('red', 'green', 'blue', 'yellow')\n",
    "second_to_last = my_tuple[-2]\n",
    "print(f\"The second-to-last element is: {second_to_last}\")\n",
    "\n"
   ]
  },
  {
   "cell_type": "code",
   "execution_count": 36,
   "id": "0ce96f06",
   "metadata": {},
   "outputs": [
    {
     "name": "stdout",
     "output_type": "stream",
     "text": [
      "The minimum number in the tuple is: 5\n"
     ]
    }
   ],
   "source": [
    "# 13. Write a code to find the minimum number in the tuple (10, 20, 5, 15).\n",
    "my_tuple = (10, 20, 5, 15)\n",
    "min_number = min(my_tuple)\n",
    "print(f\"The minimum number in the tuple is: {min_number}\")\n",
    "\n"
   ]
  },
  {
   "cell_type": "code",
   "execution_count": 37,
   "id": "870d6192",
   "metadata": {},
   "outputs": [
    {
     "name": "stdout",
     "output_type": "stream",
     "text": [
      "The index of 'cat' is: 1\n"
     ]
    }
   ],
   "source": [
    "# 14. Write a code to find the index of the element \"cat\" in the tuple ('dog', 'cat', 'rabbit').\n",
    "my_tuple = ('dog', 'cat', 'rabbit')\n",
    "try:\n",
    "    index_of_cat = my_tuple.index(\"cat\")\n",
    "    print(f\"The index of 'cat' is: {index_of_cat}\")\n",
    "except ValueError:\n",
    "    print(\"'cat' not found in the tuple.\")\n",
    "\n"
   ]
  },
  {
   "cell_type": "code",
   "execution_count": 38,
   "id": "60233b53",
   "metadata": {},
   "outputs": [
    {
     "name": "stdout",
     "output_type": "stream",
     "text": [
      "Kiwi is not in the tuple.\n"
     ]
    }
   ],
   "source": [
    "# 15. Write a code to create a tuple containing three different fruits and check if \"kiwi\" is in it.\n",
    "fruit_tuple = ('apple', 'banana', 'orange')\n",
    "if \"kiwi\" in fruit_tuple:\n",
    "    print(\"Kiwi is in the tuple.\")\n",
    "else:\n",
    "    print(\"Kiwi is not in the tuple.\")\n",
    "\n"
   ]
  },
  {
   "cell_type": "code",
   "execution_count": 39,
   "id": "f59136e5",
   "metadata": {},
   "outputs": [
    {
     "name": "stdout",
     "output_type": "stream",
     "text": [
      "{'b', 'c', 'a'}\n"
     ]
    }
   ],
   "source": [
    "# 16. Write a code to create a set with the elements 'a', 'b', 'c' and print it.\n",
    "my_set = {'a', 'b', 'c'}\n",
    "print(my_set)\n",
    "\n"
   ]
  },
  {
   "cell_type": "code",
   "execution_count": 40,
   "id": "50293193",
   "metadata": {},
   "outputs": [
    {
     "name": "stdout",
     "output_type": "stream",
     "text": [
      "The set after clearing: set()\n"
     ]
    }
   ],
   "source": [
    "# 17. Write a code to clear all elements from the set {1, 2, 3, 4, 5}.\n",
    "my_set = {1, 2, 3, 4, 5}\n",
    "my_set.clear()\n",
    "print(f\"The set after clearing: {my_set}\")\n",
    "\n"
   ]
  },
  {
   "cell_type": "code",
   "execution_count": 41,
   "id": "9d169b2d",
   "metadata": {},
   "outputs": [
    {
     "name": "stdout",
     "output_type": "stream",
     "text": [
      "The set after removing 4: {1, 2, 3}\n"
     ]
    }
   ],
   "source": [
    "# 18. Write a code to remove the element 4 from the set {1, 2, 3, 4}.\n",
    "my_set = {1, 2, 3, 4}\n",
    "my_set.remove(4)\n",
    "print(f\"The set after removing 4: {my_set}\")\n",
    "\n"
   ]
  },
  {
   "cell_type": "code",
   "execution_count": 42,
   "id": "49fb9e9f",
   "metadata": {},
   "outputs": [
    {
     "name": "stdout",
     "output_type": "stream",
     "text": [
      "The union of {1, 2, 3} and {3, 4, 5} is: {1, 2, 3, 4, 5}\n"
     ]
    }
   ],
   "source": [
    "# 19. Write a code to find the union of two sets {1, 2, 3} and {3, 4, 5}.\n",
    "set1 = {1, 2, 3}\n",
    "set2 = {3, 4, 5}\n",
    "union_set = set1.union(set2)\n",
    "print(f\"The union of {set1} and {set2} is: {union_set}\")\n",
    "\n"
   ]
  },
  {
   "cell_type": "code",
   "execution_count": 43,
   "id": "043e69d9",
   "metadata": {},
   "outputs": [
    {
     "name": "stdout",
     "output_type": "stream",
     "text": [
      "The intersection of {1, 2, 3} and {2, 3, 4} is: {2, 3}\n"
     ]
    }
   ],
   "source": [
    "# 20. Write a code to find the intersection of two sets {1, 2, 3} and {2, 3, 4}.\n",
    "set1 = {1, 2, 3}\n",
    "set2 = {2, 3, 4}\n",
    "intersection_set = set1.intersection(set2)\n",
    "print(f\"The intersection of {set1} and {set2} is: {intersection_set}\")\n",
    "\n"
   ]
  },
  {
   "cell_type": "code",
   "execution_count": 44,
   "id": "8704d869",
   "metadata": {},
   "outputs": [
    {
     "name": "stdout",
     "output_type": "stream",
     "text": [
      "{'name': 'Alice', 'age': 30, 'city': 'New York'}\n"
     ]
    }
   ],
   "source": [
    "# 21. Write a code to create a dictionary with the keys \"name\", \"age\", and \"city\", and print it.\n",
    "my_dict = {\"name\": \"Alice\", \"age\": 30, \"city\": \"New York\"}\n",
    "print(my_dict)\n",
    "\n"
   ]
  },
  {
   "cell_type": "code",
   "execution_count": 45,
   "id": "6db1d2eb",
   "metadata": {},
   "outputs": [
    {
     "name": "stdout",
     "output_type": "stream",
     "text": [
      "{'name': 'John', 'age': 25, 'country': 'USA'}\n"
     ]
    }
   ],
   "source": [
    "# 22. Write a code to add a new key-value pair \"country\": \"USA\" to the dictionary {'name': 'John', 'age': 25}.\n",
    "my_dict = {'name': 'John', 'age': 25}\n",
    "my_dict[\"country\"] = \"USA\"\n",
    "print(my_dict)\n",
    "\n"
   ]
  },
  {
   "cell_type": "code",
   "execution_count": 46,
   "id": "378aeb60",
   "metadata": {},
   "outputs": [
    {
     "name": "stdout",
     "output_type": "stream",
     "text": [
      "The value for the key 'name' is: Alice\n"
     ]
    }
   ],
   "source": [
    "# 23. Write a code to access the value associated with the key \"name\" in the dictionary {'name': 'Alice', 'age': 30}.\n",
    "my_dict = {'name': 'Alice', 'age': 30}\n",
    "name_value = my_dict[\"name\"]\n",
    "print(f\"The value for the key 'name' is: {name_value}\")\n",
    "\n"
   ]
  },
  {
   "cell_type": "code",
   "execution_count": 47,
   "id": "321d1e74",
   "metadata": {},
   "outputs": [
    {
     "name": "stdout",
     "output_type": "stream",
     "text": [
      "The dictionary after removing 'age': {'name': 'Bob', 'city': 'New York'}\n"
     ]
    }
   ],
   "source": [
    "# 24. Write a code to remove the key \"age\" from the dictionary {'name': 'Bob', 'age': 22, 'city': 'New York'}.\n",
    "my_dict = {'name': 'Bob', 'age': 22, 'city': 'New York'}\n",
    "del my_dict[\"age\"]\n",
    "print(f\"The dictionary after removing 'age': {my_dict}\")\n",
    "\n"
   ]
  },
  {
   "cell_type": "code",
   "execution_count": 48,
   "id": "c5c68076",
   "metadata": {},
   "outputs": [
    {
     "name": "stdout",
     "output_type": "stream",
     "text": [
      "The key 'city' exists in the dictionary.\n"
     ]
    }
   ],
   "source": [
    "# 25. Write a code to check if the key \"city\" exists in the dictionary {'name': 'Alice', 'city': 'Paris'}.\n",
    "my_dict = {'name': 'Alice', 'city': 'Paris'}\n",
    "if \"city\" in my_dict:\n",
    "    print(\"The key 'city' exists in the dictionary.\")\n",
    "else:\n",
    "    print(\"The key 'city' does not exist in the dictionary.\")\n",
    "\n"
   ]
  },
  {
   "cell_type": "code",
   "execution_count": 49,
   "id": "8967fa6b",
   "metadata": {},
   "outputs": [
    {
     "name": "stdout",
     "output_type": "stream",
     "text": [
      "List: [1, 2, 3]\n",
      "Tuple: (4, 5, 6)\n",
      "Dictionary: {'a': 7, 'b': 8}\n"
     ]
    }
   ],
   "source": [
    "# 26. Write a code to create a list, a tuple, and a dictionary, and print them all.\n",
    "my_list = [1, 2, 3]\n",
    "my_tuple = (4, 5, 6)\n",
    "my_dict = {\"a\": 7, \"b\": 8}\n",
    "print(f\"List: {my_list}\")\n",
    "print(f\"Tuple: {my_tuple}\")\n",
    "print(f\"Dictionary: {my_dict}\")\n",
    "\n"
   ]
  },
  {
   "cell_type": "code",
   "execution_count": 50,
   "id": "da700208",
   "metadata": {},
   "outputs": [
    {
     "name": "stdout",
     "output_type": "stream",
     "text": [
      "Sorted list of random numbers: [6, 40, 51, 82, 96]\n"
     ]
    }
   ],
   "source": [
    "# 27. Write a code to create a list of 5 random numbers between 1 and 100, sort it in ascending order, and print the result.\n",
    "import random\n",
    "random_numbers = [random.randint(1, 100) for _ in range(5)]\n",
    "random_numbers.sort()\n",
    "print(f\"Sorted list of random numbers: {random_numbers}\")\n",
    "\n"
   ]
  },
  {
   "cell_type": "code",
   "execution_count": 51,
   "id": "f32c4f4a",
   "metadata": {},
   "outputs": [
    {
     "name": "stdout",
     "output_type": "stream",
     "text": [
      "The element at the third index is: date\n"
     ]
    }
   ],
   "source": [
    "# 28. Write a code to create a list with strings and print the element at the third index.\n",
    "my_list = [\"apple\", \"banana\", \"cherry\", \"date\"]\n",
    "if len(my_list) > 3:\n",
    "    third_element = my_list[3]\n",
    "    print(f\"The element at the third index is: {third_element}\")\n",
    "else:\n",
    "    print(\"The list does not have an element at the third index.\")\n",
    "\n"
   ]
  },
  {
   "cell_type": "code",
   "execution_count": 52,
   "id": "a4d86628",
   "metadata": {},
   "outputs": [
    {
     "name": "stdout",
     "output_type": "stream",
     "text": [
      "Combined dictionary: {'a': 1, 'b': 2, 'c': 3, 'd': 4}\n"
     ]
    }
   ],
   "source": [
    "# 29. Write a code to combine two dictionaries into one and print the result.\n",
    "dict1 = {\"a\": 1, \"b\": 2}\n",
    "dict2 = {\"c\": 3, \"d\": 4}\n",
    "combined_dict = {**dict1, **dict2} # Using dictionary unpacking (Python 3.5+)\n",
    "print(f\"Combined dictionary: {combined_dict}\")\n",
    "\n",
    "# Alternative for older Python versions:\n",
    "# combined_dict = dict1.copy()\n",
    "# combined_dict.update(dict2)\n",
    "# print(f\"Combined dictionary (update method): {combined_dict}\")\n",
    "\n"
   ]
  },
  {
   "cell_type": "code",
   "execution_count": 53,
   "id": "16424ca6",
   "metadata": {},
   "outputs": [
    {
     "name": "stdout",
     "output_type": "stream",
     "text": [
      "The list converted to a set: {'apple', 'cherry', 'banana'}\n"
     ]
    }
   ],
   "source": [
    "# 30. Write a code to convert a list of strings into a set.\n",
    "list_of_strings = [\"apple\", \"banana\", \"cherry\", \"apple\"]\n",
    "set_of_strings = set(list_of_strings)\n",
    "print(f\"The list converted to a set: {set_of_strings}\")"
   ]
  }
 ],
 "metadata": {
  "kernelspec": {
   "display_name": "base",
   "language": "python",
   "name": "python3"
  },
  "language_info": {
   "codemirror_mode": {
    "name": "ipython",
    "version": 3
   },
   "file_extension": ".py",
   "mimetype": "text/x-python",
   "name": "python",
   "nbconvert_exporter": "python",
   "pygments_lexer": "ipython3",
   "version": "3.13.5"
  }
 },
 "nbformat": 4,
 "nbformat_minor": 5
}
